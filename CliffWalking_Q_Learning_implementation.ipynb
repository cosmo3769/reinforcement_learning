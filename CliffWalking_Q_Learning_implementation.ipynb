{
  "nbformat": 4,
  "nbformat_minor": 0,
  "metadata": {
    "colab": {
      "provenance": [],
      "authorship_tag": "ABX9TyPbqMEwvARSrgIfInsCQeLb",
      "include_colab_link": true
    },
    "kernelspec": {
      "name": "python3",
      "display_name": "Python 3"
    },
    "language_info": {
      "name": "python"
    },
    "widgets": {
      "application/vnd.jupyter.widget-state+json": {
        "fd1f8fb0250b4cdd9da9cc190eff8f08": {
          "model_module": "@jupyter-widgets/controls",
          "model_name": "HBoxModel",
          "model_module_version": "1.5.0",
          "state": {
            "_dom_classes": [],
            "_model_module": "@jupyter-widgets/controls",
            "_model_module_version": "1.5.0",
            "_model_name": "HBoxModel",
            "_view_count": null,
            "_view_module": "@jupyter-widgets/controls",
            "_view_module_version": "1.5.0",
            "_view_name": "HBoxView",
            "box_style": "",
            "children": [
              "IPY_MODEL_cf911e021ce44c0b9ee6e930a22e5154",
              "IPY_MODEL_1ff5728ffda34853adeddbfaf9ad4d74",
              "IPY_MODEL_04fa24afdb0446b188485408f7abbd6c"
            ],
            "layout": "IPY_MODEL_7c1cf724725347c9a275176412b2dfb3"
          }
        },
        "cf911e021ce44c0b9ee6e930a22e5154": {
          "model_module": "@jupyter-widgets/controls",
          "model_name": "HTMLModel",
          "model_module_version": "1.5.0",
          "state": {
            "_dom_classes": [],
            "_model_module": "@jupyter-widgets/controls",
            "_model_module_version": "1.5.0",
            "_model_name": "HTMLModel",
            "_view_count": null,
            "_view_module": "@jupyter-widgets/controls",
            "_view_module_version": "1.5.0",
            "_view_name": "HTMLView",
            "description": "",
            "description_tooltip": null,
            "layout": "IPY_MODEL_5ab28d31adca4d5ea7e5f59b92f6ba8f",
            "placeholder": "​",
            "style": "IPY_MODEL_f349fd503f514e2e9ac20ec4c6136640",
            "value": "100%"
          }
        },
        "1ff5728ffda34853adeddbfaf9ad4d74": {
          "model_module": "@jupyter-widgets/controls",
          "model_name": "FloatProgressModel",
          "model_module_version": "1.5.0",
          "state": {
            "_dom_classes": [],
            "_model_module": "@jupyter-widgets/controls",
            "_model_module_version": "1.5.0",
            "_model_name": "FloatProgressModel",
            "_view_count": null,
            "_view_module": "@jupyter-widgets/controls",
            "_view_module_version": "1.5.0",
            "_view_name": "ProgressView",
            "bar_style": "success",
            "description": "",
            "description_tooltip": null,
            "layout": "IPY_MODEL_edc0ee6f80ab4731be7ba950ee9f7b2a",
            "max": 100000,
            "min": 0,
            "orientation": "horizontal",
            "style": "IPY_MODEL_c6ec3d607dc94014a282d2e3e27e5c58",
            "value": 100000
          }
        },
        "04fa24afdb0446b188485408f7abbd6c": {
          "model_module": "@jupyter-widgets/controls",
          "model_name": "HTMLModel",
          "model_module_version": "1.5.0",
          "state": {
            "_dom_classes": [],
            "_model_module": "@jupyter-widgets/controls",
            "_model_module_version": "1.5.0",
            "_model_name": "HTMLModel",
            "_view_count": null,
            "_view_module": "@jupyter-widgets/controls",
            "_view_module_version": "1.5.0",
            "_view_name": "HTMLView",
            "description": "",
            "description_tooltip": null,
            "layout": "IPY_MODEL_25931a5d63714c188f8cdb83ef068541",
            "placeholder": "​",
            "style": "IPY_MODEL_86195aa4a29d4296a44914af9fcf4e92",
            "value": " 100000/100000 [02:09&lt;00:00, 773.38it/s]"
          }
        },
        "7c1cf724725347c9a275176412b2dfb3": {
          "model_module": "@jupyter-widgets/base",
          "model_name": "LayoutModel",
          "model_module_version": "1.2.0",
          "state": {
            "_model_module": "@jupyter-widgets/base",
            "_model_module_version": "1.2.0",
            "_model_name": "LayoutModel",
            "_view_count": null,
            "_view_module": "@jupyter-widgets/base",
            "_view_module_version": "1.2.0",
            "_view_name": "LayoutView",
            "align_content": null,
            "align_items": null,
            "align_self": null,
            "border": null,
            "bottom": null,
            "display": null,
            "flex": null,
            "flex_flow": null,
            "grid_area": null,
            "grid_auto_columns": null,
            "grid_auto_flow": null,
            "grid_auto_rows": null,
            "grid_column": null,
            "grid_gap": null,
            "grid_row": null,
            "grid_template_areas": null,
            "grid_template_columns": null,
            "grid_template_rows": null,
            "height": null,
            "justify_content": null,
            "justify_items": null,
            "left": null,
            "margin": null,
            "max_height": null,
            "max_width": null,
            "min_height": null,
            "min_width": null,
            "object_fit": null,
            "object_position": null,
            "order": null,
            "overflow": null,
            "overflow_x": null,
            "overflow_y": null,
            "padding": null,
            "right": null,
            "top": null,
            "visibility": null,
            "width": null
          }
        },
        "5ab28d31adca4d5ea7e5f59b92f6ba8f": {
          "model_module": "@jupyter-widgets/base",
          "model_name": "LayoutModel",
          "model_module_version": "1.2.0",
          "state": {
            "_model_module": "@jupyter-widgets/base",
            "_model_module_version": "1.2.0",
            "_model_name": "LayoutModel",
            "_view_count": null,
            "_view_module": "@jupyter-widgets/base",
            "_view_module_version": "1.2.0",
            "_view_name": "LayoutView",
            "align_content": null,
            "align_items": null,
            "align_self": null,
            "border": null,
            "bottom": null,
            "display": null,
            "flex": null,
            "flex_flow": null,
            "grid_area": null,
            "grid_auto_columns": null,
            "grid_auto_flow": null,
            "grid_auto_rows": null,
            "grid_column": null,
            "grid_gap": null,
            "grid_row": null,
            "grid_template_areas": null,
            "grid_template_columns": null,
            "grid_template_rows": null,
            "height": null,
            "justify_content": null,
            "justify_items": null,
            "left": null,
            "margin": null,
            "max_height": null,
            "max_width": null,
            "min_height": null,
            "min_width": null,
            "object_fit": null,
            "object_position": null,
            "order": null,
            "overflow": null,
            "overflow_x": null,
            "overflow_y": null,
            "padding": null,
            "right": null,
            "top": null,
            "visibility": null,
            "width": null
          }
        },
        "f349fd503f514e2e9ac20ec4c6136640": {
          "model_module": "@jupyter-widgets/controls",
          "model_name": "DescriptionStyleModel",
          "model_module_version": "1.5.0",
          "state": {
            "_model_module": "@jupyter-widgets/controls",
            "_model_module_version": "1.5.0",
            "_model_name": "DescriptionStyleModel",
            "_view_count": null,
            "_view_module": "@jupyter-widgets/base",
            "_view_module_version": "1.2.0",
            "_view_name": "StyleView",
            "description_width": ""
          }
        },
        "edc0ee6f80ab4731be7ba950ee9f7b2a": {
          "model_module": "@jupyter-widgets/base",
          "model_name": "LayoutModel",
          "model_module_version": "1.2.0",
          "state": {
            "_model_module": "@jupyter-widgets/base",
            "_model_module_version": "1.2.0",
            "_model_name": "LayoutModel",
            "_view_count": null,
            "_view_module": "@jupyter-widgets/base",
            "_view_module_version": "1.2.0",
            "_view_name": "LayoutView",
            "align_content": null,
            "align_items": null,
            "align_self": null,
            "border": null,
            "bottom": null,
            "display": null,
            "flex": null,
            "flex_flow": null,
            "grid_area": null,
            "grid_auto_columns": null,
            "grid_auto_flow": null,
            "grid_auto_rows": null,
            "grid_column": null,
            "grid_gap": null,
            "grid_row": null,
            "grid_template_areas": null,
            "grid_template_columns": null,
            "grid_template_rows": null,
            "height": null,
            "justify_content": null,
            "justify_items": null,
            "left": null,
            "margin": null,
            "max_height": null,
            "max_width": null,
            "min_height": null,
            "min_width": null,
            "object_fit": null,
            "object_position": null,
            "order": null,
            "overflow": null,
            "overflow_x": null,
            "overflow_y": null,
            "padding": null,
            "right": null,
            "top": null,
            "visibility": null,
            "width": null
          }
        },
        "c6ec3d607dc94014a282d2e3e27e5c58": {
          "model_module": "@jupyter-widgets/controls",
          "model_name": "ProgressStyleModel",
          "model_module_version": "1.5.0",
          "state": {
            "_model_module": "@jupyter-widgets/controls",
            "_model_module_version": "1.5.0",
            "_model_name": "ProgressStyleModel",
            "_view_count": null,
            "_view_module": "@jupyter-widgets/base",
            "_view_module_version": "1.2.0",
            "_view_name": "StyleView",
            "bar_color": null,
            "description_width": ""
          }
        },
        "25931a5d63714c188f8cdb83ef068541": {
          "model_module": "@jupyter-widgets/base",
          "model_name": "LayoutModel",
          "model_module_version": "1.2.0",
          "state": {
            "_model_module": "@jupyter-widgets/base",
            "_model_module_version": "1.2.0",
            "_model_name": "LayoutModel",
            "_view_count": null,
            "_view_module": "@jupyter-widgets/base",
            "_view_module_version": "1.2.0",
            "_view_name": "LayoutView",
            "align_content": null,
            "align_items": null,
            "align_self": null,
            "border": null,
            "bottom": null,
            "display": null,
            "flex": null,
            "flex_flow": null,
            "grid_area": null,
            "grid_auto_columns": null,
            "grid_auto_flow": null,
            "grid_auto_rows": null,
            "grid_column": null,
            "grid_gap": null,
            "grid_row": null,
            "grid_template_areas": null,
            "grid_template_columns": null,
            "grid_template_rows": null,
            "height": null,
            "justify_content": null,
            "justify_items": null,
            "left": null,
            "margin": null,
            "max_height": null,
            "max_width": null,
            "min_height": null,
            "min_width": null,
            "object_fit": null,
            "object_position": null,
            "order": null,
            "overflow": null,
            "overflow_x": null,
            "overflow_y": null,
            "padding": null,
            "right": null,
            "top": null,
            "visibility": null,
            "width": null
          }
        },
        "86195aa4a29d4296a44914af9fcf4e92": {
          "model_module": "@jupyter-widgets/controls",
          "model_name": "DescriptionStyleModel",
          "model_module_version": "1.5.0",
          "state": {
            "_model_module": "@jupyter-widgets/controls",
            "_model_module_version": "1.5.0",
            "_model_name": "DescriptionStyleModel",
            "_view_count": null,
            "_view_module": "@jupyter-widgets/base",
            "_view_module_version": "1.2.0",
            "_view_name": "StyleView",
            "description_width": ""
          }
        },
        "fef7978d87ea4873a0e8ecb232b12ed3": {
          "model_module": "@jupyter-widgets/controls",
          "model_name": "HBoxModel",
          "model_module_version": "1.5.0",
          "state": {
            "_dom_classes": [],
            "_model_module": "@jupyter-widgets/controls",
            "_model_module_version": "1.5.0",
            "_model_name": "HBoxModel",
            "_view_count": null,
            "_view_module": "@jupyter-widgets/controls",
            "_view_module_version": "1.5.0",
            "_view_name": "HBoxView",
            "box_style": "",
            "children": [
              "IPY_MODEL_7f2c65de41d044c18e536c6844ae7b5f",
              "IPY_MODEL_1cbd40af4d4a42e78337a3c6962867eb",
              "IPY_MODEL_2795ee5c2ed44dd8bc37ee397c837a5e"
            ],
            "layout": "IPY_MODEL_9712680f97544676b62f922fdb221537"
          }
        },
        "7f2c65de41d044c18e536c6844ae7b5f": {
          "model_module": "@jupyter-widgets/controls",
          "model_name": "HTMLModel",
          "model_module_version": "1.5.0",
          "state": {
            "_dom_classes": [],
            "_model_module": "@jupyter-widgets/controls",
            "_model_module_version": "1.5.0",
            "_model_name": "HTMLModel",
            "_view_count": null,
            "_view_module": "@jupyter-widgets/controls",
            "_view_module_version": "1.5.0",
            "_view_name": "HTMLView",
            "description": "",
            "description_tooltip": null,
            "layout": "IPY_MODEL_3aac5de6b74a40a480f7d19362b8ae95",
            "placeholder": "​",
            "style": "IPY_MODEL_48f1819688b84e29a0926e21295aa297",
            "value": "100%"
          }
        },
        "1cbd40af4d4a42e78337a3c6962867eb": {
          "model_module": "@jupyter-widgets/controls",
          "model_name": "FloatProgressModel",
          "model_module_version": "1.5.0",
          "state": {
            "_dom_classes": [],
            "_model_module": "@jupyter-widgets/controls",
            "_model_module_version": "1.5.0",
            "_model_name": "FloatProgressModel",
            "_view_count": null,
            "_view_module": "@jupyter-widgets/controls",
            "_view_module_version": "1.5.0",
            "_view_name": "ProgressView",
            "bar_style": "success",
            "description": "",
            "description_tooltip": null,
            "layout": "IPY_MODEL_11ff147e16a243f49664a397727e8fa1",
            "max": 100,
            "min": 0,
            "orientation": "horizontal",
            "style": "IPY_MODEL_f844daacee194bc3b9cde4b9c821a859",
            "value": 100
          }
        },
        "2795ee5c2ed44dd8bc37ee397c837a5e": {
          "model_module": "@jupyter-widgets/controls",
          "model_name": "HTMLModel",
          "model_module_version": "1.5.0",
          "state": {
            "_dom_classes": [],
            "_model_module": "@jupyter-widgets/controls",
            "_model_module_version": "1.5.0",
            "_model_name": "HTMLModel",
            "_view_count": null,
            "_view_module": "@jupyter-widgets/controls",
            "_view_module_version": "1.5.0",
            "_view_name": "HTMLView",
            "description": "",
            "description_tooltip": null,
            "layout": "IPY_MODEL_a14c1c9fd4d045a4b04de3978de5f94d",
            "placeholder": "​",
            "style": "IPY_MODEL_05775c9ea16c45e0b286670415977188",
            "value": " 100/100 [00:00&lt;00:00, 579.31it/s]"
          }
        },
        "9712680f97544676b62f922fdb221537": {
          "model_module": "@jupyter-widgets/base",
          "model_name": "LayoutModel",
          "model_module_version": "1.2.0",
          "state": {
            "_model_module": "@jupyter-widgets/base",
            "_model_module_version": "1.2.0",
            "_model_name": "LayoutModel",
            "_view_count": null,
            "_view_module": "@jupyter-widgets/base",
            "_view_module_version": "1.2.0",
            "_view_name": "LayoutView",
            "align_content": null,
            "align_items": null,
            "align_self": null,
            "border": null,
            "bottom": null,
            "display": null,
            "flex": null,
            "flex_flow": null,
            "grid_area": null,
            "grid_auto_columns": null,
            "grid_auto_flow": null,
            "grid_auto_rows": null,
            "grid_column": null,
            "grid_gap": null,
            "grid_row": null,
            "grid_template_areas": null,
            "grid_template_columns": null,
            "grid_template_rows": null,
            "height": null,
            "justify_content": null,
            "justify_items": null,
            "left": null,
            "margin": null,
            "max_height": null,
            "max_width": null,
            "min_height": null,
            "min_width": null,
            "object_fit": null,
            "object_position": null,
            "order": null,
            "overflow": null,
            "overflow_x": null,
            "overflow_y": null,
            "padding": null,
            "right": null,
            "top": null,
            "visibility": null,
            "width": null
          }
        },
        "3aac5de6b74a40a480f7d19362b8ae95": {
          "model_module": "@jupyter-widgets/base",
          "model_name": "LayoutModel",
          "model_module_version": "1.2.0",
          "state": {
            "_model_module": "@jupyter-widgets/base",
            "_model_module_version": "1.2.0",
            "_model_name": "LayoutModel",
            "_view_count": null,
            "_view_module": "@jupyter-widgets/base",
            "_view_module_version": "1.2.0",
            "_view_name": "LayoutView",
            "align_content": null,
            "align_items": null,
            "align_self": null,
            "border": null,
            "bottom": null,
            "display": null,
            "flex": null,
            "flex_flow": null,
            "grid_area": null,
            "grid_auto_columns": null,
            "grid_auto_flow": null,
            "grid_auto_rows": null,
            "grid_column": null,
            "grid_gap": null,
            "grid_row": null,
            "grid_template_areas": null,
            "grid_template_columns": null,
            "grid_template_rows": null,
            "height": null,
            "justify_content": null,
            "justify_items": null,
            "left": null,
            "margin": null,
            "max_height": null,
            "max_width": null,
            "min_height": null,
            "min_width": null,
            "object_fit": null,
            "object_position": null,
            "order": null,
            "overflow": null,
            "overflow_x": null,
            "overflow_y": null,
            "padding": null,
            "right": null,
            "top": null,
            "visibility": null,
            "width": null
          }
        },
        "48f1819688b84e29a0926e21295aa297": {
          "model_module": "@jupyter-widgets/controls",
          "model_name": "DescriptionStyleModel",
          "model_module_version": "1.5.0",
          "state": {
            "_model_module": "@jupyter-widgets/controls",
            "_model_module_version": "1.5.0",
            "_model_name": "DescriptionStyleModel",
            "_view_count": null,
            "_view_module": "@jupyter-widgets/base",
            "_view_module_version": "1.2.0",
            "_view_name": "StyleView",
            "description_width": ""
          }
        },
        "11ff147e16a243f49664a397727e8fa1": {
          "model_module": "@jupyter-widgets/base",
          "model_name": "LayoutModel",
          "model_module_version": "1.2.0",
          "state": {
            "_model_module": "@jupyter-widgets/base",
            "_model_module_version": "1.2.0",
            "_model_name": "LayoutModel",
            "_view_count": null,
            "_view_module": "@jupyter-widgets/base",
            "_view_module_version": "1.2.0",
            "_view_name": "LayoutView",
            "align_content": null,
            "align_items": null,
            "align_self": null,
            "border": null,
            "bottom": null,
            "display": null,
            "flex": null,
            "flex_flow": null,
            "grid_area": null,
            "grid_auto_columns": null,
            "grid_auto_flow": null,
            "grid_auto_rows": null,
            "grid_column": null,
            "grid_gap": null,
            "grid_row": null,
            "grid_template_areas": null,
            "grid_template_columns": null,
            "grid_template_rows": null,
            "height": null,
            "justify_content": null,
            "justify_items": null,
            "left": null,
            "margin": null,
            "max_height": null,
            "max_width": null,
            "min_height": null,
            "min_width": null,
            "object_fit": null,
            "object_position": null,
            "order": null,
            "overflow": null,
            "overflow_x": null,
            "overflow_y": null,
            "padding": null,
            "right": null,
            "top": null,
            "visibility": null,
            "width": null
          }
        },
        "f844daacee194bc3b9cde4b9c821a859": {
          "model_module": "@jupyter-widgets/controls",
          "model_name": "ProgressStyleModel",
          "model_module_version": "1.5.0",
          "state": {
            "_model_module": "@jupyter-widgets/controls",
            "_model_module_version": "1.5.0",
            "_model_name": "ProgressStyleModel",
            "_view_count": null,
            "_view_module": "@jupyter-widgets/base",
            "_view_module_version": "1.2.0",
            "_view_name": "StyleView",
            "bar_color": null,
            "description_width": ""
          }
        },
        "a14c1c9fd4d045a4b04de3978de5f94d": {
          "model_module": "@jupyter-widgets/base",
          "model_name": "LayoutModel",
          "model_module_version": "1.2.0",
          "state": {
            "_model_module": "@jupyter-widgets/base",
            "_model_module_version": "1.2.0",
            "_model_name": "LayoutModel",
            "_view_count": null,
            "_view_module": "@jupyter-widgets/base",
            "_view_module_version": "1.2.0",
            "_view_name": "LayoutView",
            "align_content": null,
            "align_items": null,
            "align_self": null,
            "border": null,
            "bottom": null,
            "display": null,
            "flex": null,
            "flex_flow": null,
            "grid_area": null,
            "grid_auto_columns": null,
            "grid_auto_flow": null,
            "grid_auto_rows": null,
            "grid_column": null,
            "grid_gap": null,
            "grid_row": null,
            "grid_template_areas": null,
            "grid_template_columns": null,
            "grid_template_rows": null,
            "height": null,
            "justify_content": null,
            "justify_items": null,
            "left": null,
            "margin": null,
            "max_height": null,
            "max_width": null,
            "min_height": null,
            "min_width": null,
            "object_fit": null,
            "object_position": null,
            "order": null,
            "overflow": null,
            "overflow_x": null,
            "overflow_y": null,
            "padding": null,
            "right": null,
            "top": null,
            "visibility": null,
            "width": null
          }
        },
        "05775c9ea16c45e0b286670415977188": {
          "model_module": "@jupyter-widgets/controls",
          "model_name": "DescriptionStyleModel",
          "model_module_version": "1.5.0",
          "state": {
            "_model_module": "@jupyter-widgets/controls",
            "_model_module_version": "1.5.0",
            "_model_name": "DescriptionStyleModel",
            "_view_count": null,
            "_view_module": "@jupyter-widgets/base",
            "_view_module_version": "1.2.0",
            "_view_name": "StyleView",
            "description_width": ""
          }
        },
        "31264784e347477288dcb371120d70ac": {
          "model_module": "@jupyter-widgets/controls",
          "model_name": "VBoxModel",
          "model_module_version": "1.5.0",
          "state": {
            "_dom_classes": [],
            "_model_module": "@jupyter-widgets/controls",
            "_model_module_version": "1.5.0",
            "_model_name": "VBoxModel",
            "_view_count": null,
            "_view_module": "@jupyter-widgets/controls",
            "_view_module_version": "1.5.0",
            "_view_name": "VBoxView",
            "box_style": "",
            "children": [
              "IPY_MODEL_1c23b3e94efb4162a7a6a103d149d57e",
              "IPY_MODEL_a1eeff2e29534a46bea04a515759cbad"
            ],
            "layout": "IPY_MODEL_d8cb232d6c92472d83e965339249ee87"
          }
        },
        "1c23b3e94efb4162a7a6a103d149d57e": {
          "model_module": "@jupyter-widgets/controls",
          "model_name": "LabelModel",
          "model_module_version": "1.5.0",
          "state": {
            "_dom_classes": [],
            "_model_module": "@jupyter-widgets/controls",
            "_model_module_version": "1.5.0",
            "_model_name": "LabelModel",
            "_view_count": null,
            "_view_module": "@jupyter-widgets/controls",
            "_view_module_version": "1.5.0",
            "_view_name": "LabelView",
            "description": "",
            "description_tooltip": null,
            "layout": "IPY_MODEL_a565e1efe9c44968980665cd98e2fd8f",
            "placeholder": "​",
            "style": "IPY_MODEL_e13e9a427ff74d0b98fa1942441dcd93",
            "value": "27.581 MB of 27.581 MB uploaded\r"
          }
        },
        "a1eeff2e29534a46bea04a515759cbad": {
          "model_module": "@jupyter-widgets/controls",
          "model_name": "FloatProgressModel",
          "model_module_version": "1.5.0",
          "state": {
            "_dom_classes": [],
            "_model_module": "@jupyter-widgets/controls",
            "_model_module_version": "1.5.0",
            "_model_name": "FloatProgressModel",
            "_view_count": null,
            "_view_module": "@jupyter-widgets/controls",
            "_view_module_version": "1.5.0",
            "_view_name": "ProgressView",
            "bar_style": "",
            "description": "",
            "description_tooltip": null,
            "layout": "IPY_MODEL_39ed8bb62c79420cb0f300daeef15934",
            "max": 1,
            "min": 0,
            "orientation": "horizontal",
            "style": "IPY_MODEL_e70c82bd37ef4d78a681a22734e9ef0c",
            "value": 1
          }
        },
        "d8cb232d6c92472d83e965339249ee87": {
          "model_module": "@jupyter-widgets/base",
          "model_name": "LayoutModel",
          "model_module_version": "1.2.0",
          "state": {
            "_model_module": "@jupyter-widgets/base",
            "_model_module_version": "1.2.0",
            "_model_name": "LayoutModel",
            "_view_count": null,
            "_view_module": "@jupyter-widgets/base",
            "_view_module_version": "1.2.0",
            "_view_name": "LayoutView",
            "align_content": null,
            "align_items": null,
            "align_self": null,
            "border": null,
            "bottom": null,
            "display": null,
            "flex": null,
            "flex_flow": null,
            "grid_area": null,
            "grid_auto_columns": null,
            "grid_auto_flow": null,
            "grid_auto_rows": null,
            "grid_column": null,
            "grid_gap": null,
            "grid_row": null,
            "grid_template_areas": null,
            "grid_template_columns": null,
            "grid_template_rows": null,
            "height": null,
            "justify_content": null,
            "justify_items": null,
            "left": null,
            "margin": null,
            "max_height": null,
            "max_width": null,
            "min_height": null,
            "min_width": null,
            "object_fit": null,
            "object_position": null,
            "order": null,
            "overflow": null,
            "overflow_x": null,
            "overflow_y": null,
            "padding": null,
            "right": null,
            "top": null,
            "visibility": null,
            "width": null
          }
        },
        "a565e1efe9c44968980665cd98e2fd8f": {
          "model_module": "@jupyter-widgets/base",
          "model_name": "LayoutModel",
          "model_module_version": "1.2.0",
          "state": {
            "_model_module": "@jupyter-widgets/base",
            "_model_module_version": "1.2.0",
            "_model_name": "LayoutModel",
            "_view_count": null,
            "_view_module": "@jupyter-widgets/base",
            "_view_module_version": "1.2.0",
            "_view_name": "LayoutView",
            "align_content": null,
            "align_items": null,
            "align_self": null,
            "border": null,
            "bottom": null,
            "display": null,
            "flex": null,
            "flex_flow": null,
            "grid_area": null,
            "grid_auto_columns": null,
            "grid_auto_flow": null,
            "grid_auto_rows": null,
            "grid_column": null,
            "grid_gap": null,
            "grid_row": null,
            "grid_template_areas": null,
            "grid_template_columns": null,
            "grid_template_rows": null,
            "height": null,
            "justify_content": null,
            "justify_items": null,
            "left": null,
            "margin": null,
            "max_height": null,
            "max_width": null,
            "min_height": null,
            "min_width": null,
            "object_fit": null,
            "object_position": null,
            "order": null,
            "overflow": null,
            "overflow_x": null,
            "overflow_y": null,
            "padding": null,
            "right": null,
            "top": null,
            "visibility": null,
            "width": null
          }
        },
        "e13e9a427ff74d0b98fa1942441dcd93": {
          "model_module": "@jupyter-widgets/controls",
          "model_name": "DescriptionStyleModel",
          "model_module_version": "1.5.0",
          "state": {
            "_model_module": "@jupyter-widgets/controls",
            "_model_module_version": "1.5.0",
            "_model_name": "DescriptionStyleModel",
            "_view_count": null,
            "_view_module": "@jupyter-widgets/base",
            "_view_module_version": "1.2.0",
            "_view_name": "StyleView",
            "description_width": ""
          }
        },
        "39ed8bb62c79420cb0f300daeef15934": {
          "model_module": "@jupyter-widgets/base",
          "model_name": "LayoutModel",
          "model_module_version": "1.2.0",
          "state": {
            "_model_module": "@jupyter-widgets/base",
            "_model_module_version": "1.2.0",
            "_model_name": "LayoutModel",
            "_view_count": null,
            "_view_module": "@jupyter-widgets/base",
            "_view_module_version": "1.2.0",
            "_view_name": "LayoutView",
            "align_content": null,
            "align_items": null,
            "align_self": null,
            "border": null,
            "bottom": null,
            "display": null,
            "flex": null,
            "flex_flow": null,
            "grid_area": null,
            "grid_auto_columns": null,
            "grid_auto_flow": null,
            "grid_auto_rows": null,
            "grid_column": null,
            "grid_gap": null,
            "grid_row": null,
            "grid_template_areas": null,
            "grid_template_columns": null,
            "grid_template_rows": null,
            "height": null,
            "justify_content": null,
            "justify_items": null,
            "left": null,
            "margin": null,
            "max_height": null,
            "max_width": null,
            "min_height": null,
            "min_width": null,
            "object_fit": null,
            "object_position": null,
            "order": null,
            "overflow": null,
            "overflow_x": null,
            "overflow_y": null,
            "padding": null,
            "right": null,
            "top": null,
            "visibility": null,
            "width": null
          }
        },
        "e70c82bd37ef4d78a681a22734e9ef0c": {
          "model_module": "@jupyter-widgets/controls",
          "model_name": "ProgressStyleModel",
          "model_module_version": "1.5.0",
          "state": {
            "_model_module": "@jupyter-widgets/controls",
            "_model_module_version": "1.5.0",
            "_model_name": "ProgressStyleModel",
            "_view_count": null,
            "_view_module": "@jupyter-widgets/base",
            "_view_module_version": "1.2.0",
            "_view_name": "StyleView",
            "bar_color": null,
            "description_width": ""
          }
        }
      }
    }
  },
  "cells": [
    {
      "cell_type": "markdown",
      "metadata": {
        "id": "view-in-github",
        "colab_type": "text"
      },
      "source": [
        "<a href=\"https://colab.research.google.com/github/cosmo3769/reinforcement_learning/blob/master/CliffWalking_Q_Learning_implementation.ipynb\" target=\"_parent\"><img src=\"https://colab.research.google.com/assets/colab-badge.svg\" alt=\"Open In Colab\"/></a>"
      ]
    },
    {
      "cell_type": "markdown",
      "source": [
        "# Setup and Imports"
      ],
      "metadata": {
        "id": "gwlGD48IQR5_"
      }
    },
    {
      "cell_type": "code",
      "source": [
        "# Check if the notebook is running on colab or not.\n",
        "try:\n",
        "    import google.colab\n",
        "    COLAB = True\n",
        "except:\n",
        "    COLAB = False\n",
        "print(f'Is the notebook using colab environment: {COLAB}')\n",
        "\n",
        "if COLAB:\n",
        "    # Install W&B for MLOPs.\n",
        "    print(f'Installing Weights and Biases')\n",
        "    !pip install -qq --upgrade wandb\n",
        "    # Install gymnasium\n",
        "    print(f'Installing gymnasium')\n",
        "    !pip install -qq gymnasium"
      ],
      "metadata": {
        "colab": {
          "base_uri": "https://localhost:8080/"
        },
        "id": "P8bY86aKQU8P",
        "outputId": "b32723e8-e3ee-4b73-d2ae-bc0737fc8573"
      },
      "execution_count": 1,
      "outputs": [
        {
          "output_type": "stream",
          "name": "stdout",
          "text": [
            "Is the notebook using colab environment: True\n",
            "Installing Weights and Biases\n",
            "\u001b[2K     \u001b[90m━━━━━━━━━━━━━━━━━━━━━━━━━━━━━━━━━━━━━━━━\u001b[0m \u001b[32m2.1/2.1 MB\u001b[0m \u001b[31m7.1 MB/s\u001b[0m eta \u001b[36m0:00:00\u001b[0m\n",
            "\u001b[2K     \u001b[90m━━━━━━━━━━━━━━━━━━━━━━━━━━━━━━━━━━━━━━━━\u001b[0m \u001b[32m190.6/190.6 kB\u001b[0m \u001b[31m7.9 MB/s\u001b[0m eta \u001b[36m0:00:00\u001b[0m\n",
            "\u001b[2K     \u001b[90m━━━━━━━━━━━━━━━━━━━━━━━━━━━━━━━━━━━━━━━━\u001b[0m \u001b[32m254.1/254.1 kB\u001b[0m \u001b[31m9.4 MB/s\u001b[0m eta \u001b[36m0:00:00\u001b[0m\n",
            "\u001b[2K     \u001b[90m━━━━━━━━━━━━━━━━━━━━━━━━━━━━━━━━━━━━━━━━\u001b[0m \u001b[32m62.7/62.7 kB\u001b[0m \u001b[31m4.5 MB/s\u001b[0m eta \u001b[36m0:00:00\u001b[0m\n",
            "\u001b[?25hInstalling gymnasium\n",
            "\u001b[2K     \u001b[90m━━━━━━━━━━━━━━━━━━━━━━━━━━━━━━━━━━━━━━━━\u001b[0m \u001b[32m953.9/953.9 kB\u001b[0m \u001b[31m6.7 MB/s\u001b[0m eta \u001b[36m0:00:00\u001b[0m\n",
            "\u001b[?25h"
          ]
        }
      ]
    },
    {
      "cell_type": "code",
      "source": [
        "# Login to your W&B account.\n",
        "import wandb\n",
        "wandb.login()"
      ],
      "metadata": {
        "colab": {
          "base_uri": "https://localhost:8080/",
          "height": 119
        },
        "id": "kK-6ZUrWQrzL",
        "outputId": "a040be2c-0008-48ac-cf24-4952ed5ad860"
      },
      "execution_count": 2,
      "outputs": [
        {
          "output_type": "display_data",
          "data": {
            "text/plain": [
              "<IPython.core.display.Javascript object>"
            ],
            "application/javascript": [
              "\n",
              "        window._wandbApiKey = new Promise((resolve, reject) => {\n",
              "            function loadScript(url) {\n",
              "            return new Promise(function(resolve, reject) {\n",
              "                let newScript = document.createElement(\"script\");\n",
              "                newScript.onerror = reject;\n",
              "                newScript.onload = resolve;\n",
              "                document.body.appendChild(newScript);\n",
              "                newScript.src = url;\n",
              "            });\n",
              "            }\n",
              "            loadScript(\"https://cdn.jsdelivr.net/npm/postmate/build/postmate.min.js\").then(() => {\n",
              "            const iframe = document.createElement('iframe')\n",
              "            iframe.style.cssText = \"width:0;height:0;border:none\"\n",
              "            document.body.appendChild(iframe)\n",
              "            const handshake = new Postmate({\n",
              "                container: iframe,\n",
              "                url: 'https://wandb.ai/authorize'\n",
              "            });\n",
              "            const timeout = setTimeout(() => reject(\"Couldn't auto authenticate\"), 5000)\n",
              "            handshake.then(function(child) {\n",
              "                child.on('authorize', data => {\n",
              "                    clearTimeout(timeout)\n",
              "                    resolve(data)\n",
              "                });\n",
              "            });\n",
              "            })\n",
              "        });\n",
              "    "
            ]
          },
          "metadata": {}
        },
        {
          "output_type": "stream",
          "name": "stderr",
          "text": [
            "\u001b[34m\u001b[1mwandb\u001b[0m: Logging into wandb.ai. (Learn how to deploy a W&B server locally: https://wandb.me/wandb-server)\n",
            "\u001b[34m\u001b[1mwandb\u001b[0m: You can find your API key in your browser here: https://wandb.ai/authorize\n",
            "wandb: Paste an API key from your profile and hit enter, or press ctrl+c to quit:"
          ]
        },
        {
          "name": "stdout",
          "output_type": "stream",
          "text": [
            " ··········\n"
          ]
        },
        {
          "output_type": "stream",
          "name": "stderr",
          "text": [
            "\u001b[34m\u001b[1mwandb\u001b[0m: Appending key for api.wandb.ai to your netrc file: /root/.netrc\n"
          ]
        },
        {
          "output_type": "execute_result",
          "data": {
            "text/plain": [
              "True"
            ]
          },
          "metadata": {},
          "execution_count": 2
        }
      ]
    },
    {
      "cell_type": "code",
      "execution_count": 3,
      "metadata": {
        "id": "qvz62-R9IlZp"
      },
      "outputs": [],
      "source": [
        "import random\n",
        "import numpy as np\n",
        "import gymnasium as gym\n",
        "import matplotlib.pyplot as plt\n",
        "\n",
        "from argparse import Namespace\n",
        "from tqdm.notebook import tqdm"
      ]
    },
    {
      "cell_type": "markdown",
      "source": [
        "# Initializing env"
      ],
      "metadata": {
        "id": "5bJMifwMya2f"
      }
    },
    {
      "cell_type": "code",
      "source": [
        "env = gym.make('CliffWalking-v0', render_mode=\"rgb_array\")"
      ],
      "metadata": {
        "id": "nFUS4cDmVml1"
      },
      "execution_count": 4,
      "outputs": []
    },
    {
      "cell_type": "markdown",
      "source": [
        "# Observation Space"
      ],
      "metadata": {
        "id": "h1fvT1LhysUi"
      }
    },
    {
      "cell_type": "code",
      "source": [
        "print(\"Observation Space =\", env.observation_space)\n",
        "print(\"Sample observation =\", env.observation_space.sample()) # Get a random observation"
      ],
      "metadata": {
        "colab": {
          "base_uri": "https://localhost:8080/"
        },
        "id": "plAGXx06z6R_",
        "outputId": "a3a256ba-a285-4b67-e7c3-abbfbed6d39a"
      },
      "execution_count": 5,
      "outputs": [
        {
          "output_type": "stream",
          "name": "stdout",
          "text": [
            "Observation Space = Discrete(48)\n",
            "Sample observation = 18\n"
          ]
        }
      ]
    },
    {
      "cell_type": "markdown",
      "source": [
        "# Action Space"
      ],
      "metadata": {
        "id": "XF_TGiZtyxVG"
      }
    },
    {
      "cell_type": "code",
      "source": [
        "print(\"Action Space =\", env.action_space)\n",
        "print(\"Sample action =\", env.action_space.sample()) # Take a random action"
      ],
      "metadata": {
        "colab": {
          "base_uri": "https://localhost:8080/"
        },
        "id": "6NDFyLvU0mer",
        "outputId": "136fee76-1c4e-452d-c224-6f70c958849f"
      },
      "execution_count": 6,
      "outputs": [
        {
          "output_type": "stream",
          "name": "stdout",
          "text": [
            "Action Space = Discrete(4)\n",
            "Sample action = 2\n"
          ]
        }
      ]
    },
    {
      "cell_type": "markdown",
      "source": [
        "# Observing the environment"
      ],
      "metadata": {
        "id": "2yGW_0YuydvV"
      }
    },
    {
      "cell_type": "code",
      "source": [
        "state, info = env.reset()"
      ],
      "metadata": {
        "id": "dpq0fIxswf10"
      },
      "execution_count": 7,
      "outputs": []
    },
    {
      "cell_type": "code",
      "source": [
        "print(\"Initial start state =\", state)\n",
        "print(\"Transition probability =\", info)"
      ],
      "metadata": {
        "colab": {
          "base_uri": "https://localhost:8080/"
        },
        "id": "U43EU11nw74l",
        "outputId": "3d74c022-410d-4eff-efd5-24f4ca8330ab"
      },
      "execution_count": 8,
      "outputs": [
        {
          "output_type": "stream",
          "name": "stdout",
          "text": [
            "Initial start state = 36\n",
            "Transition probability = {'prob': 1}\n"
          ]
        }
      ]
    },
    {
      "cell_type": "markdown",
      "source": [
        "# Executing an action"
      ],
      "metadata": {
        "id": "6nuW0oe0K-ZK"
      }
    },
    {
      "cell_type": "code",
      "source": [
        "action = env.action_space.sample()\n",
        "print(\"Action taken =\", action)\n",
        "\n",
        "new_state, reward, terminated, truncated, info = env.step(action)\n",
        "print(\"State (index) reached after taking an action =\", new_state)\n",
        "print(\"Reward recieved after taking an action =\", reward)\n",
        "print(\"Is terminated? =\", terminated)\n",
        "print(\"Is truncated? =\", truncated)\n",
        "print(\"Transition probability =\", info)"
      ],
      "metadata": {
        "colab": {
          "base_uri": "https://localhost:8080/"
        },
        "id": "7VRW3PhqLA54",
        "outputId": "a8af6068-83ff-42b0-bb53-8a652119d4d6"
      },
      "execution_count": 9,
      "outputs": [
        {
          "output_type": "stream",
          "name": "stdout",
          "text": [
            "Action taken = 0\n",
            "State (index) reached after taking an action = 24\n",
            "Reward recieved after taking an action = -1\n",
            "Is terminated? = False\n",
            "Is truncated? = False\n",
            "Transition probability = {'prob': 1.0}\n"
          ]
        }
      ]
    },
    {
      "cell_type": "markdown",
      "source": [
        "# Initializing Q-table"
      ],
      "metadata": {
        "id": "_Zo6GJ_G0G6c"
      }
    },
    {
      "cell_type": "code",
      "source": [
        "state_space = env.observation_space.n\n",
        "print(\"There are\", state_space, \"possible states in `CliffWalking-v0` environment.\")\n",
        "\n",
        "action_space = env.action_space.n\n",
        "print(\"There are\", action_space, \"possible actions that we can select to move in `CliffWalking-v0 environment.\")"
      ],
      "metadata": {
        "colab": {
          "base_uri": "https://localhost:8080/"
        },
        "id": "kvv0y5ZKodoY",
        "outputId": "4dfddb0c-7d59-48dd-932f-6a4ffd7199ed"
      },
      "execution_count": 10,
      "outputs": [
        {
          "output_type": "stream",
          "name": "stdout",
          "text": [
            "There are 48 possible states in `CliffWalking-v0` environment.\n",
            "There are 4 possible actions that we can select to move in `CliffWalking-v0 environment.\n"
          ]
        }
      ]
    },
    {
      "cell_type": "code",
      "source": [
        "# Let's create our Qtable of size (state_space, action_space) and initialize each values to 0.\n",
        "def initialize_q_table(state_space, action_space):\n",
        "    Qtable = np.zeros((state_space, action_space))\n",
        "    return Qtable"
      ],
      "metadata": {
        "id": "gepekQFMonMg"
      },
      "execution_count": 11,
      "outputs": []
    },
    {
      "cell_type": "code",
      "source": [
        "Qtable_cliffwalking = initialize_q_table(state_space, action_space)"
      ],
      "metadata": {
        "id": "kHJE0bQcoteV"
      },
      "execution_count": 12,
      "outputs": []
    },
    {
      "cell_type": "code",
      "source": [
        "Qtable_cliffwalking"
      ],
      "metadata": {
        "colab": {
          "base_uri": "https://localhost:8080/"
        },
        "id": "P5w-5Rxko0Ol",
        "outputId": "79edc01c-39aa-4bbb-e699-aa2452dcd444"
      },
      "execution_count": 13,
      "outputs": [
        {
          "output_type": "execute_result",
          "data": {
            "text/plain": [
              "array([[0., 0., 0., 0.],\n",
              "       [0., 0., 0., 0.],\n",
              "       [0., 0., 0., 0.],\n",
              "       [0., 0., 0., 0.],\n",
              "       [0., 0., 0., 0.],\n",
              "       [0., 0., 0., 0.],\n",
              "       [0., 0., 0., 0.],\n",
              "       [0., 0., 0., 0.],\n",
              "       [0., 0., 0., 0.],\n",
              "       [0., 0., 0., 0.],\n",
              "       [0., 0., 0., 0.],\n",
              "       [0., 0., 0., 0.],\n",
              "       [0., 0., 0., 0.],\n",
              "       [0., 0., 0., 0.],\n",
              "       [0., 0., 0., 0.],\n",
              "       [0., 0., 0., 0.],\n",
              "       [0., 0., 0., 0.],\n",
              "       [0., 0., 0., 0.],\n",
              "       [0., 0., 0., 0.],\n",
              "       [0., 0., 0., 0.],\n",
              "       [0., 0., 0., 0.],\n",
              "       [0., 0., 0., 0.],\n",
              "       [0., 0., 0., 0.],\n",
              "       [0., 0., 0., 0.],\n",
              "       [0., 0., 0., 0.],\n",
              "       [0., 0., 0., 0.],\n",
              "       [0., 0., 0., 0.],\n",
              "       [0., 0., 0., 0.],\n",
              "       [0., 0., 0., 0.],\n",
              "       [0., 0., 0., 0.],\n",
              "       [0., 0., 0., 0.],\n",
              "       [0., 0., 0., 0.],\n",
              "       [0., 0., 0., 0.],\n",
              "       [0., 0., 0., 0.],\n",
              "       [0., 0., 0., 0.],\n",
              "       [0., 0., 0., 0.],\n",
              "       [0., 0., 0., 0.],\n",
              "       [0., 0., 0., 0.],\n",
              "       [0., 0., 0., 0.],\n",
              "       [0., 0., 0., 0.],\n",
              "       [0., 0., 0., 0.],\n",
              "       [0., 0., 0., 0.],\n",
              "       [0., 0., 0., 0.],\n",
              "       [0., 0., 0., 0.],\n",
              "       [0., 0., 0., 0.],\n",
              "       [0., 0., 0., 0.],\n",
              "       [0., 0., 0., 0.],\n",
              "       [0., 0., 0., 0.]])"
            ]
          },
          "metadata": {},
          "execution_count": 13
        }
      ]
    },
    {
      "cell_type": "markdown",
      "source": [
        "# Build the agent"
      ],
      "metadata": {
        "id": "pnERfK-6Yjx_"
      }
    },
    {
      "cell_type": "code",
      "source": [
        "class CliffwalkingAgent:\n",
        "    def __init__(self, args):\n",
        "        self.args = args\n",
        "        self.training_error = []\n",
        "\n",
        "    def get_action(\n",
        "        self,\n",
        "        Qtable,\n",
        "        state,\n",
        "        epsilon\n",
        "    ):\n",
        "        if np.random.random() > epsilon:\n",
        "            return np.argmax(Qtable[state][:])\n",
        "        else:\n",
        "            return env.action_space.sample()\n",
        "\n",
        "    def update(\n",
        "        self,\n",
        "        Qtable,\n",
        "        state,\n",
        "        new_state,\n",
        "        action\n",
        "    ):\n",
        "        td_target = reward + self.args.discount_factor * np.max(Qtable[new_state])\n",
        "        td_error = td_target - Qtable[state][action]\n",
        "        self.training_error.append(td_error)\n",
        "        return Qtable[state][action] + self.args.learning_rate * td_error\n",
        "\n",
        "    def decay_epsilon(\n",
        "        self,\n",
        "        episode\n",
        "    ):\n",
        "        exp_decay = np.exp(-self.args.decay_rate * episode)\n",
        "        return self.args.min_epsilon + (self.args.max_epsilon - self.args.min_epsilon) * exp_decay"
      ],
      "metadata": {
        "id": "aJety-vRxRdN"
      },
      "execution_count": 14,
      "outputs": []
    },
    {
      "cell_type": "markdown",
      "source": [
        "# Hyperparameters"
      ],
      "metadata": {
        "id": "ce0r9tPq0Pmv"
      }
    },
    {
      "cell_type": "code",
      "source": [
        "configs = Namespace(\n",
        "    # Training parameters\n",
        "    n_training_episodes = 100000,       # Total number of training episodes\n",
        "    learning_rate = 0.7,                # Learning rate\n",
        "\n",
        "    # Evaluation parameters\n",
        "    n_eval_episodes = 100,              # Total number of test episodes\n",
        "\n",
        "    # Environment parameters\n",
        "    env_id = \"CliffWalking-v0\",         # Environment name\n",
        "    max_steps = 99,                     # Max steps per episode\n",
        "    discount_factor = 0.95,             # Discount Factor\n",
        "    eval_seed = [],                     # Evaluation seed of the environment\n",
        "\n",
        "    # Exploration parameters\n",
        "    max_epsilon = 1.0,                  # Exploration probability at start\n",
        "    min_epsilon = 0.05,                 # Minimum exploration probability (start exploiting)\n",
        "    decay_rate = 0.0005,                # Exponential decay rate for exploration prob\n",
        ")"
      ],
      "metadata": {
        "id": "IjgycZS6poYM"
      },
      "execution_count": 15,
      "outputs": []
    },
    {
      "cell_type": "markdown",
      "source": [
        "# Training Loop"
      ],
      "metadata": {
        "id": "N55OfFEI0RUV"
      }
    },
    {
      "cell_type": "code",
      "source": [
        "agent = CliffwalkingAgent(configs)"
      ],
      "metadata": {
        "id": "oNVErhQFzBCs"
      },
      "execution_count": 16,
      "outputs": []
    },
    {
      "cell_type": "code",
      "source": [
        "env = gym.wrappers.RecordEpisodeStatistics(env, deque_size=configs.n_training_episodes)\n",
        "\n",
        "def train(n_training_episodes, max_steps, Qtable):\n",
        "    \"\"\"\n",
        "    Train the agent for ``n_training_episodes`` episodes.\n",
        "    :param env: The training environment\n",
        "    :param max_steps: Maximum number of steps per episode\n",
        "    :param Q: The Q-table\n",
        "    \"\"\"\n",
        "    for episode in tqdm(range(n_training_episodes)):\n",
        "        # Reduce epsilon (because we need less and less exploration)\n",
        "        epsilon = agent.decay_epsilon(episode)\n",
        "        # Reset the environment\n",
        "        state, info = env.reset()\n",
        "        step = 0\n",
        "        terminated = False\n",
        "        truncated = False\n",
        "\n",
        "        # repeat\n",
        "        for step in range(max_steps):\n",
        "            # Use (epsilon greedy policy) to choose the action At\n",
        "            action = agent.get_action(Qtable, state, epsilon)\n",
        "\n",
        "            # Take action At and observe Rt+1 and St+1\n",
        "            # Take the action (a) and observe the newstate(s') and reward (r)\n",
        "            new_state, reward, terminated, truncated, info = env.step(action)\n",
        "\n",
        "            # Update Q(s,a):= Q(s,a) + lr [R(s,a) + gamma * max Q(s',a') - Q(s,a)]\n",
        "            Qtable[state][action] = agent.update(Qtable, state, new_state, action)\n",
        "\n",
        "            # If terminated or truncated finish the episode\n",
        "            if terminated or truncated:\n",
        "                break\n",
        "\n",
        "            # Our next state is the new state\n",
        "            state = new_state\n",
        "\n",
        "    return Qtable"
      ],
      "metadata": {
        "id": "5Cj5H9MYhGgD"
      },
      "execution_count": 17,
      "outputs": []
    },
    {
      "cell_type": "code",
      "source": [
        "Qtable_cliffwalking = train(configs.n_training_episodes, configs.max_steps, Qtable_cliffwalking)"
      ],
      "metadata": {
        "colab": {
          "base_uri": "https://localhost:8080/",
          "height": 49,
          "referenced_widgets": [
            "fd1f8fb0250b4cdd9da9cc190eff8f08",
            "cf911e021ce44c0b9ee6e930a22e5154",
            "1ff5728ffda34853adeddbfaf9ad4d74",
            "04fa24afdb0446b188485408f7abbd6c",
            "7c1cf724725347c9a275176412b2dfb3",
            "5ab28d31adca4d5ea7e5f59b92f6ba8f",
            "f349fd503f514e2e9ac20ec4c6136640",
            "edc0ee6f80ab4731be7ba950ee9f7b2a",
            "c6ec3d607dc94014a282d2e3e27e5c58",
            "25931a5d63714c188f8cdb83ef068541",
            "86195aa4a29d4296a44914af9fcf4e92"
          ]
        },
        "id": "D-G_NauE2unA",
        "outputId": "38ecc580-86ad-4345-f1b7-c95134a1a514"
      },
      "execution_count": 18,
      "outputs": [
        {
          "output_type": "display_data",
          "data": {
            "text/plain": [
              "  0%|          | 0/100000 [00:00<?, ?it/s]"
            ],
            "application/vnd.jupyter.widget-view+json": {
              "version_major": 2,
              "version_minor": 0,
              "model_id": "fd1f8fb0250b4cdd9da9cc190eff8f08"
            }
          },
          "metadata": {}
        }
      ]
    },
    {
      "cell_type": "markdown",
      "source": [
        "# Updated Q-values"
      ],
      "metadata": {
        "id": "7vEnvxIh0UXg"
      }
    },
    {
      "cell_type": "code",
      "source": [
        "Qtable_cliffwalking"
      ],
      "metadata": {
        "colab": {
          "base_uri": "https://localhost:8080/"
        },
        "id": "5AmlgECip4K3",
        "outputId": "072c081e-9cc3-42e5-c5d4-4e57bd451c8f"
      },
      "execution_count": 19,
      "outputs": [
        {
          "output_type": "execute_result",
          "data": {
            "text/plain": [
              "array([[-10.7341754 , -10.24650042, -10.24650042, -10.7341754 ],\n",
              "       [-10.24650042,  -9.73315833,  -9.73315833, -10.7341754 ],\n",
              "       [ -9.73315833,  -9.19279825,  -9.19279825, -10.24650042],\n",
              "       [ -9.19279825,  -8.62399815,  -8.62399815,  -9.73315833],\n",
              "       [ -8.62399815,  -8.02526122,  -8.02526122,  -9.19279825],\n",
              "       [ -8.02526122,  -7.39501181,  -7.39501181,  -8.62399815],\n",
              "       [ -7.39501181,  -6.73159137,  -6.73159137,  -8.02526122],\n",
              "       [ -6.73159137,  -6.03325408,  -6.03325408,  -7.39501181],\n",
              "       [ -6.03325408,  -5.29816219,  -5.29816219,  -6.73159137],\n",
              "       [ -5.29816219,  -4.52438125,  -4.52438125,  -6.03325408],\n",
              "       [ -4.52438125,  -3.709875  ,  -3.709875  ,  -5.29816219],\n",
              "       [ -3.709875  ,  -3.709875  ,  -2.8525    ,  -4.52438125],\n",
              "       [-10.7341754 ,  -9.73315833,  -9.73315833, -10.24650042],\n",
              "       [-10.24650042,  -9.19279825,  -9.19279825, -10.24650042],\n",
              "       [ -9.73315833,  -8.62399815,  -8.62399815,  -9.73315833],\n",
              "       [ -9.19279825,  -8.02526122,  -8.02526122,  -9.19279825],\n",
              "       [ -8.62399815,  -7.39501181,  -7.39501181,  -8.62399815],\n",
              "       [ -8.02526122,  -6.73159137,  -6.73159137,  -8.02526122],\n",
              "       [ -7.39501181,  -6.03325408,  -6.03325408,  -7.39501181],\n",
              "       [ -6.73159137,  -5.29816219,  -5.29816219,  -6.73159137],\n",
              "       [ -6.03325408,  -4.52438125,  -4.52438125,  -6.03325408],\n",
              "       [ -5.29816219,  -3.709875  ,  -3.709875  ,  -5.29816219],\n",
              "       [ -4.52438125,  -2.8525    ,  -2.8525    ,  -4.52438125],\n",
              "       [ -3.709875  ,  -2.8525    ,  -1.95      ,  -3.709875  ],\n",
              "       [-10.24650042,  -9.19279825, -10.24650042,  -9.73315833],\n",
              "       [ -9.73315833,  -8.62399815, -10.24650042,  -9.73315833],\n",
              "       [ -9.19279825,  -8.02526122, -10.24650042,  -9.19279825],\n",
              "       [ -8.62399815,  -7.39501181, -10.24650042,  -8.62399815],\n",
              "       [ -8.02526122,  -6.73159137, -10.24650042,  -8.02526122],\n",
              "       [ -7.39501181,  -6.03325408, -10.24650042,  -7.39501181],\n",
              "       [ -6.73159137,  -5.29816219, -10.24650042,  -6.73159137],\n",
              "       [ -6.03325408,  -4.52438125, -10.24650042,  -6.03325408],\n",
              "       [ -5.29816219,  -3.709875  , -10.24650042,  -5.29816219],\n",
              "       [ -4.52438125,  -2.8525    , -10.24650042,  -4.52438125],\n",
              "       [ -3.709875  ,  -1.95      , -10.24650042,  -3.709875  ],\n",
              "       [ -2.8525    ,  -1.95      ,  -1.        ,  -2.8525    ],\n",
              "       [ -9.73315833, -10.24650042, -10.24650042, -10.24650042],\n",
              "       [  0.        ,   0.        ,   0.        ,   0.        ],\n",
              "       [  0.        ,   0.        ,   0.        ,   0.        ],\n",
              "       [  0.        ,   0.        ,   0.        ,   0.        ],\n",
              "       [  0.        ,   0.        ,   0.        ,   0.        ],\n",
              "       [  0.        ,   0.        ,   0.        ,   0.        ],\n",
              "       [  0.        ,   0.        ,   0.        ,   0.        ],\n",
              "       [  0.        ,   0.        ,   0.        ,   0.        ],\n",
              "       [  0.        ,   0.        ,   0.        ,   0.        ],\n",
              "       [  0.        ,   0.        ,   0.        ,   0.        ],\n",
              "       [  0.        ,   0.        ,   0.        ,   0.        ],\n",
              "       [  0.        ,   0.        ,   0.        ,   0.        ]])"
            ]
          },
          "metadata": {},
          "execution_count": 19
        }
      ]
    },
    {
      "cell_type": "markdown",
      "source": [
        "# Evaluate trained Agent"
      ],
      "metadata": {
        "id": "63yuLJo10WFj"
      }
    },
    {
      "cell_type": "code",
      "source": [
        "def evaluate_agent(env, max_steps, n_eval_episodes, Qtable, seed):\n",
        "  \"\"\"\n",
        "  Evaluate the agent for ``n_eval_episodes`` episodes and returns average reward and std of reward.\n",
        "  :param env: The evaluation environment\n",
        "  :param max_steps: Maximum number of steps per episode\n",
        "  :param n_eval_episodes: Number of episode to evaluate the agent\n",
        "  :param Q: The Q-table\n",
        "  :param seed: The evaluation seed array (for cliffwalking)\n",
        "  \"\"\"\n",
        "  episode_rewards = []\n",
        "  for episode in tqdm(range(n_eval_episodes)):\n",
        "    if seed:\n",
        "      state, info = env.reset(seed=seed[episode])\n",
        "    else:\n",
        "      state, info = env.reset()\n",
        "    step = 0\n",
        "    truncated = False\n",
        "    terminated = False\n",
        "    total_rewards_ep = 0\n",
        "\n",
        "    for step in range(max_steps):\n",
        "      # Take the action (index) that have the maximum expected future reward given that state\n",
        "      action = np.argmax(Qtable[state][:])\n",
        "      new_state, reward, terminated, truncated, info = env.step(action)\n",
        "      total_rewards_ep += reward\n",
        "\n",
        "      if terminated or truncated:\n",
        "        break\n",
        "      state = new_state\n",
        "    episode_rewards.append(total_rewards_ep)\n",
        "  mean_reward = np.mean(episode_rewards)\n",
        "  std_reward = np.std(episode_rewards)\n",
        "\n",
        "  return mean_reward, std_reward"
      ],
      "metadata": {
        "id": "d6YMRKlPqE_c"
      },
      "execution_count": 20,
      "outputs": []
    },
    {
      "cell_type": "code",
      "source": [
        "mean_reward, std_reward = evaluate_agent(env, configs.max_steps, configs.n_eval_episodes, Qtable_cliffwalking, configs.eval_seed)\n",
        "print(f\"Mean_reward={mean_reward:.2f} +/- {std_reward:.2f}\")"
      ],
      "metadata": {
        "colab": {
          "base_uri": "https://localhost:8080/",
          "height": 66,
          "referenced_widgets": [
            "fef7978d87ea4873a0e8ecb232b12ed3",
            "7f2c65de41d044c18e536c6844ae7b5f",
            "1cbd40af4d4a42e78337a3c6962867eb",
            "2795ee5c2ed44dd8bc37ee397c837a5e",
            "9712680f97544676b62f922fdb221537",
            "3aac5de6b74a40a480f7d19362b8ae95",
            "48f1819688b84e29a0926e21295aa297",
            "11ff147e16a243f49664a397727e8fa1",
            "f844daacee194bc3b9cde4b9c821a859",
            "a14c1c9fd4d045a4b04de3978de5f94d",
            "05775c9ea16c45e0b286670415977188"
          ]
        },
        "id": "dQh0MPpwqJQo",
        "outputId": "6767cc1c-804c-4c2d-8d76-8b87dc0b73cd"
      },
      "execution_count": 21,
      "outputs": [
        {
          "output_type": "display_data",
          "data": {
            "text/plain": [
              "  0%|          | 0/100 [00:00<?, ?it/s]"
            ],
            "application/vnd.jupyter.widget-view+json": {
              "version_major": 2,
              "version_minor": 0,
              "model_id": "fef7978d87ea4873a0e8ecb232b12ed3"
            }
          },
          "metadata": {}
        },
        {
          "output_type": "stream",
          "name": "stdout",
          "text": [
            "Mean_reward=-13.00 +/- 0.00\n"
          ]
        }
      ]
    },
    {
      "cell_type": "markdown",
      "source": [
        "# Visualization chart"
      ],
      "metadata": {
        "id": "mLohwkGQ9ROc"
      }
    },
    {
      "cell_type": "code",
      "source": [
        "rolling_length = 500"
      ],
      "metadata": {
        "id": "OfkkiltYO_Pd"
      },
      "execution_count": 22,
      "outputs": []
    },
    {
      "cell_type": "code",
      "source": [
        "fig0, ax0 = plt.subplots()\n",
        "\n",
        "# Plot Episode rewards\n",
        "ax0.set_title(\"Episode Rewards over time\")\n",
        "reward_moving_average = (\n",
        "    np.convolve(\n",
        "        np.array(env.return_queue).flatten(), np.ones(rolling_length), mode=\"valid\"\n",
        "    )\n",
        "    / rolling_length\n",
        ")\n",
        "ax0.plot(reward_moving_average, label='Rolling Average')\n",
        "ax0.set_xlabel(\"Episode\")\n",
        "ax0.set_ylabel(\"Episode Reward\")\n",
        "\n",
        "# Adjust layout and show the plot\n",
        "plt.tight_layout()\n",
        "plt.show()"
      ],
      "metadata": {
        "colab": {
          "base_uri": "https://localhost:8080/",
          "height": 487
        },
        "id": "XfcRYGM8O2LV",
        "outputId": "2e5f37a5-af72-42b7-a9a5-c0954e07f1b0"
      },
      "execution_count": 23,
      "outputs": [
        {
          "output_type": "display_data",
          "data": {
            "text/plain": [
              "<Figure size 640x480 with 1 Axes>"
            ],
            "image/png": "[encoded data removed]"
          },
          "metadata": {}
        }
      ]
    },
    {
      "cell_type": "code",
      "source": [
        "fig1, ax1 = plt.subplots()\n",
        "\n",
        "# Plot Episode lengths\n",
        "ax1.set_title(\"Episode Lengths over time\")\n",
        "length_moving_average = (\n",
        "    np.convolve(\n",
        "        np.array(env.length_queue).flatten(), np.ones(rolling_length), mode=\"same\"\n",
        "    )\n",
        "    / rolling_length\n",
        ")\n",
        "ax1.plot(length_moving_average, label='Rolling Average')\n",
        "ax1.set_xlabel(\"Episode\")\n",
        "ax1.set_ylabel(\"Episode Length\")\n",
        "\n",
        "# Adjust layout and show the plot\n",
        "plt.tight_layout()\n",
        "plt.show()"
      ],
      "metadata": {
        "colab": {
          "base_uri": "https://localhost:8080/",
          "height": 487
        },
        "id": "aFoCZhCvOqEx",
        "outputId": "9296a40e-a492-4ff4-f90b-96c4212239b7"
      },
      "execution_count": 24,
      "outputs": [
        {
          "output_type": "display_data",
          "data": {
            "text/plain": [
              "<Figure size 640x480 with 1 Axes>"
            ],
            "image/png": "[encoded data removed]"
          },
          "metadata": {}
        }
      ]
    },
    {
      "cell_type": "code",
      "source": [
        "fig2, ax2 = plt.subplots()\n",
        "\n",
        "# Plot Training Error\n",
        "ax2.set_title(\"Training Error over time\")\n",
        "training_error_moving_average = (\n",
        "    np.convolve(np.array(agent.training_error), np.ones(rolling_length), mode=\"same\"\n",
        "    )\n",
        "    / rolling_length\n",
        ")\n",
        "ax2.plot(training_error_moving_average, label='Rolling Average')\n",
        "ax2.set_xlabel(\"Training Step\")\n",
        "ax2.set_ylabel(\"Training Error\")\n",
        "\n",
        "# Adjust layout and show the plot\n",
        "plt.tight_layout()\n",
        "plt.show()"
      ],
      "metadata": {
        "colab": {
          "base_uri": "https://localhost:8080/",
          "height": 487
        },
        "id": "L4_VxVWMOvt_",
        "outputId": "6466bbf6-c22f-46f0-8809-d16db74c3ece"
      },
      "execution_count": 25,
      "outputs": [
        {
          "output_type": "display_data",
          "data": {
            "text/plain": [
              "<Figure size 640x480 with 1 Axes>"
            ],
            "image/png": "[encoded data removed]"
          },
          "metadata": {}
        }
      ]
    },
    {
      "cell_type": "markdown",
      "source": [
        "# Record Video of Optimal Policy"
      ],
      "metadata": {
        "id": "hXOH9irH0eOB"
      }
    },
    {
      "cell_type": "code",
      "source": [
        "def record_video(env, Qtable, fps=1):\n",
        "  \"\"\"\n",
        "  Generate a video of the optimal policy path\n",
        "  :param env\n",
        "  :param Qtable: Qtable of our agent\n",
        "  :param fps: how many frame per seconds (with CliffWalking-v0 we use 1)\n",
        "  \"\"\"\n",
        "  images = []\n",
        "  terminated = False\n",
        "  truncated = False\n",
        "  state, info = env.reset(seed=random.randint(0,500))\n",
        "  img = env.render()\n",
        "  images.append(img)\n",
        "  while not terminated or truncated:\n",
        "    # Use (greedy policy) to take the action (index) that have the maximum expected future reward given that state\n",
        "    action = np.argmax(Qtable[state][:])\n",
        "    state, reward, terminated, truncated, info = env.step(action) # We directly put next_state = state for recording logic\n",
        "    img = env.render()\n",
        "    images.append(img)\n",
        "  frames = np.transpose(np.array(images, dtype=np.uint8), (0, 3, 1, 2)) # We reshaped frames to log to wandb\n",
        "  return frames"
      ],
      "metadata": {
        "id": "CfxLwXf3qPEb"
      },
      "execution_count": 26,
      "outputs": []
    },
    {
      "cell_type": "markdown",
      "source": [
        "# Log visualization chart and video to wandb"
      ],
      "metadata": {
        "id": "eVRSMwEp9Xde"
      }
    },
    {
      "cell_type": "code",
      "source": [
        "# Initialize wandb run\n",
        "wandb.init(\n",
        "    entity='cosmo3769',\n",
        "    project='Q-Learning',\n",
        "    config=vars(configs),\n",
        "    name=f'{configs.env_id}'\n",
        ")\n",
        "\n",
        "# Log visualization chart\n",
        "wandb.log({'Episode Rewards over time': fig0})\n",
        "wandb.log({'Episode Lengths over time': fig1})\n",
        "wandb.log({'Training Error over time': fig2})\n",
        "\n",
        "# Log optimal policy path\n",
        "optimal_policy_recorded_frames = record_video(env, Qtable_cliffwalking, fps=1)\n",
        "wandb.log({\"optimal policy path\": wandb.Video(optimal_policy_recorded_frames, fps=1)})\n",
        "\n",
        "# Finish wandb run\n",
        "wandb.finish()"
      ],
      "metadata": {
        "colab": {
          "base_uri": "https://localhost:8080/",
          "height": 170,
          "referenced_widgets": [
            "31264784e347477288dcb371120d70ac",
            "1c23b3e94efb4162a7a6a103d149d57e",
            "a1eeff2e29534a46bea04a515759cbad",
            "d8cb232d6c92472d83e965339249ee87",
            "a565e1efe9c44968980665cd98e2fd8f",
            "e13e9a427ff74d0b98fa1942441dcd93",
            "39ed8bb62c79420cb0f300daeef15934",
            "e70c82bd37ef4d78a681a22734e9ef0c"
          ]
        },
        "id": "eAInPYUgX9y8",
        "outputId": "750716c7-4344-49cc-ac3e-8754cf299284"
      },
      "execution_count": 27,
      "outputs": [
        {
          "output_type": "stream",
          "name": "stderr",
          "text": [
            "\u001b[34m\u001b[1mwandb\u001b[0m: Currently logged in as: \u001b[33mcosmo3769\u001b[0m. Use \u001b[1m`wandb login --relogin`\u001b[0m to force relogin\n"
          ]
        },
        {
          "output_type": "display_data",
          "data": {
            "text/plain": [
              "<IPython.core.display.HTML object>"
            ],
            "text/html": [
              "Tracking run with wandb version 0.16.1"
            ]
          },
          "metadata": {}
        },
        {
          "output_type": "display_data",
          "data": {
            "text/plain": [
              "<IPython.core.display.HTML object>"
            ],
            "text/html": [
              "Run data is saved locally in <code>/content/wandb/run-20231222_104000-d6ft3w91</code>"
            ]
          },
          "metadata": {}
        },
        {
          "output_type": "display_data",
          "data": {
            "text/plain": [
              "<IPython.core.display.HTML object>"
            ],
            "text/html": [
              "Syncing run <strong><a href='https://wandb.ai/cosmo3769/Q-Learning%20/runs/d6ft3w91' target=\"_blank\">CliffWalking-v0</a></strong> to <a href='https://wandb.ai/cosmo3769/Q-Learning%20' target=\"_blank\">Weights & Biases</a> (<a href='https://wandb.me/run' target=\"_blank\">docs</a>)<br/>"
            ]
          },
          "metadata": {}
        },
        {
          "output_type": "display_data",
          "data": {
            "text/plain": [
              "<IPython.core.display.HTML object>"
            ],
            "text/html": [
              " View project at <a href='https://wandb.ai/cosmo3769/Q-Learning%20' target=\"_blank\">https://wandb.ai/cosmo3769/Q-Learning%20</a>"
            ]
          },
          "metadata": {}
        },
        {
          "output_type": "display_data",
          "data": {
            "text/plain": [
              "<IPython.core.display.HTML object>"
            ],
            "text/html": [
              " View run at <a href='https://wandb.ai/cosmo3769/Q-Learning%20/runs/d6ft3w91' target=\"_blank\">https://wandb.ai/cosmo3769/Q-Learning%20/runs/d6ft3w91</a>"
            ]
          },
          "metadata": {}
        },
        {
          "output_type": "display_data",
          "data": {
            "text/plain": [
              "VBox(children=(Label(value='27.581 MB of 27.581 MB uploaded\\r'), FloatProgress(value=1.0, max=1.0)))"
            ],
            "application/vnd.jupyter.widget-view+json": {
              "version_major": 2,
              "version_minor": 0,
              "model_id": "31264784e347477288dcb371120d70ac"
            }
          },
          "metadata": {}
        },
        {
          "output_type": "display_data",
          "data": {
            "text/plain": [
              "<IPython.core.display.HTML object>"
            ],
            "text/html": [
              " View run <strong style=\"color:#cdcd00\">CliffWalking-v0</strong> at: <a href='https://wandb.ai/cosmo3769/Q-Learning%20/runs/d6ft3w91' target=\"_blank\">https://wandb.ai/cosmo3769/Q-Learning%20/runs/d6ft3w91</a><br/>Synced 4 W&B file(s), 4 media file(s), 0 artifact file(s) and 0 other file(s)"
            ]
          },
          "metadata": {}
        },
        {
          "output_type": "display_data",
          "data": {
            "text/plain": [
              "<IPython.core.display.HTML object>"
            ],
            "text/html": [
              "Find logs at: <code>./wandb/run-20231222_104000-d6ft3w91/logs</code>"
            ]
          },
          "metadata": {}
        }
      ]
    },
    {
      "cell_type": "code",
      "source": [],
      "metadata": {
        "id": "x3vlnWoFYoSK"
      },
      "execution_count": null,
      "outputs": []
    }
  ]
}