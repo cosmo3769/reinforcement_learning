{
  "nbformat": 4,
  "nbformat_minor": 0,
  "metadata": {
    "colab": {
      "provenance": [],
      "authorship_tag": "ABX9TyObX9qG99KSY8kSbSc/RC5n",
      "include_colab_link": true
    },
    "kernelspec": {
      "name": "python3",
      "display_name": "Python 3"
    },
    "language_info": {
      "name": "python"
    },
    "widgets": {
      "application/vnd.jupyter.widget-state+json": {
        "12da986695064b218708298ad3e0c535": {
          "model_module": "@jupyter-widgets/controls",
          "model_name": "HBoxModel",
          "model_module_version": "1.5.0",
          "state": {
            "_dom_classes": [],
            "_model_module": "@jupyter-widgets/controls",
            "_model_module_version": "1.5.0",
            "_model_name": "HBoxModel",
            "_view_count": null,
            "_view_module": "@jupyter-widgets/controls",
            "_view_module_version": "1.5.0",
            "_view_name": "HBoxView",
            "box_style": "",
            "children": [
              "IPY_MODEL_ca5e68ec6ada4c6889036c3bc6383749",
              "IPY_MODEL_0904878ef56f44a28afde7a59d7f1c56",
              "IPY_MODEL_f872763d36c14c9196696af6b7773f9b"
            ],
            "layout": "IPY_MODEL_9c9e6dd628ab4fd79150c9bb5c944916"
          }
        },
        "ca5e68ec6ada4c6889036c3bc6383749": {
          "model_module": "@jupyter-widgets/controls",
          "model_name": "HTMLModel",
          "model_module_version": "1.5.0",
          "state": {
            "_dom_classes": [],
            "_model_module": "@jupyter-widgets/controls",
            "_model_module_version": "1.5.0",
            "_model_name": "HTMLModel",
            "_view_count": null,
            "_view_module": "@jupyter-widgets/controls",
            "_view_module_version": "1.5.0",
            "_view_name": "HTMLView",
            "description": "",
            "description_tooltip": null,
            "layout": "IPY_MODEL_01ea7127565f4c71a97e8ba35185ab4d",
            "placeholder": "​",
            "style": "IPY_MODEL_a53f87ee979345b3acabe03ee3ff0e8c",
            "value": "100%"
          }
        },
        "0904878ef56f44a28afde7a59d7f1c56": {
          "model_module": "@jupyter-widgets/controls",
          "model_name": "FloatProgressModel",
          "model_module_version": "1.5.0",
          "state": {
            "_dom_classes": [],
            "_model_module": "@jupyter-widgets/controls",
            "_model_module_version": "1.5.0",
            "_model_name": "FloatProgressModel",
            "_view_count": null,
            "_view_module": "@jupyter-widgets/controls",
            "_view_module_version": "1.5.0",
            "_view_name": "ProgressView",
            "bar_style": "success",
            "description": "",
            "description_tooltip": null,
            "layout": "IPY_MODEL_7abeb16a567f451185677ada4503d8ef",
            "max": 100000,
            "min": 0,
            "orientation": "horizontal",
            "style": "IPY_MODEL_73be4c82af9e4bd681e2e09025742404",
            "value": 100000
          }
        },
        "f872763d36c14c9196696af6b7773f9b": {
          "model_module": "@jupyter-widgets/controls",
          "model_name": "HTMLModel",
          "model_module_version": "1.5.0",
          "state": {
            "_dom_classes": [],
            "_model_module": "@jupyter-widgets/controls",
            "_model_module_version": "1.5.0",
            "_model_name": "HTMLModel",
            "_view_count": null,
            "_view_module": "@jupyter-widgets/controls",
            "_view_module_version": "1.5.0",
            "_view_name": "HTMLView",
            "description": "",
            "description_tooltip": null,
            "layout": "IPY_MODEL_955fe2ae70cf4b09979c4e711cf1b506",
            "placeholder": "​",
            "style": "IPY_MODEL_ab062105e79344c9864bb8c968aa24b8",
            "value": " 100000/100000 [01:54&lt;00:00, 996.68it/s]"
          }
        },
        "9c9e6dd628ab4fd79150c9bb5c944916": {
          "model_module": "@jupyter-widgets/base",
          "model_name": "LayoutModel",
          "model_module_version": "1.2.0",
          "state": {
            "_model_module": "@jupyter-widgets/base",
            "_model_module_version": "1.2.0",
            "_model_name": "LayoutModel",
            "_view_count": null,
            "_view_module": "@jupyter-widgets/base",
            "_view_module_version": "1.2.0",
            "_view_name": "LayoutView",
            "align_content": null,
            "align_items": null,
            "align_self": null,
            "border": null,
            "bottom": null,
            "display": null,
            "flex": null,
            "flex_flow": null,
            "grid_area": null,
            "grid_auto_columns": null,
            "grid_auto_flow": null,
            "grid_auto_rows": null,
            "grid_column": null,
            "grid_gap": null,
            "grid_row": null,
            "grid_template_areas": null,
            "grid_template_columns": null,
            "grid_template_rows": null,
            "height": null,
            "justify_content": null,
            "justify_items": null,
            "left": null,
            "margin": null,
            "max_height": null,
            "max_width": null,
            "min_height": null,
            "min_width": null,
            "object_fit": null,
            "object_position": null,
            "order": null,
            "overflow": null,
            "overflow_x": null,
            "overflow_y": null,
            "padding": null,
            "right": null,
            "top": null,
            "visibility": null,
            "width": null
          }
        },
        "01ea7127565f4c71a97e8ba35185ab4d": {
          "model_module": "@jupyter-widgets/base",
          "model_name": "LayoutModel",
          "model_module_version": "1.2.0",
          "state": {
            "_model_module": "@jupyter-widgets/base",
            "_model_module_version": "1.2.0",
            "_model_name": "LayoutModel",
            "_view_count": null,
            "_view_module": "@jupyter-widgets/base",
            "_view_module_version": "1.2.0",
            "_view_name": "LayoutView",
            "align_content": null,
            "align_items": null,
            "align_self": null,
            "border": null,
            "bottom": null,
            "display": null,
            "flex": null,
            "flex_flow": null,
            "grid_area": null,
            "grid_auto_columns": null,
            "grid_auto_flow": null,
            "grid_auto_rows": null,
            "grid_column": null,
            "grid_gap": null,
            "grid_row": null,
            "grid_template_areas": null,
            "grid_template_columns": null,
            "grid_template_rows": null,
            "height": null,
            "justify_content": null,
            "justify_items": null,
            "left": null,
            "margin": null,
            "max_height": null,
            "max_width": null,
            "min_height": null,
            "min_width": null,
            "object_fit": null,
            "object_position": null,
            "order": null,
            "overflow": null,
            "overflow_x": null,
            "overflow_y": null,
            "padding": null,
            "right": null,
            "top": null,
            "visibility": null,
            "width": null
          }
        },
        "a53f87ee979345b3acabe03ee3ff0e8c": {
          "model_module": "@jupyter-widgets/controls",
          "model_name": "DescriptionStyleModel",
          "model_module_version": "1.5.0",
          "state": {
            "_model_module": "@jupyter-widgets/controls",
            "_model_module_version": "1.5.0",
            "_model_name": "DescriptionStyleModel",
            "_view_count": null,
            "_view_module": "@jupyter-widgets/base",
            "_view_module_version": "1.2.0",
            "_view_name": "StyleView",
            "description_width": ""
          }
        },
        "7abeb16a567f451185677ada4503d8ef": {
          "model_module": "@jupyter-widgets/base",
          "model_name": "LayoutModel",
          "model_module_version": "1.2.0",
          "state": {
            "_model_module": "@jupyter-widgets/base",
            "_model_module_version": "1.2.0",
            "_model_name": "LayoutModel",
            "_view_count": null,
            "_view_module": "@jupyter-widgets/base",
            "_view_module_version": "1.2.0",
            "_view_name": "LayoutView",
            "align_content": null,
            "align_items": null,
            "align_self": null,
            "border": null,
            "bottom": null,
            "display": null,
            "flex": null,
            "flex_flow": null,
            "grid_area": null,
            "grid_auto_columns": null,
            "grid_auto_flow": null,
            "grid_auto_rows": null,
            "grid_column": null,
            "grid_gap": null,
            "grid_row": null,
            "grid_template_areas": null,
            "grid_template_columns": null,
            "grid_template_rows": null,
            "height": null,
            "justify_content": null,
            "justify_items": null,
            "left": null,
            "margin": null,
            "max_height": null,
            "max_width": null,
            "min_height": null,
            "min_width": null,
            "object_fit": null,
            "object_position": null,
            "order": null,
            "overflow": null,
            "overflow_x": null,
            "overflow_y": null,
            "padding": null,
            "right": null,
            "top": null,
            "visibility": null,
            "width": null
          }
        },
        "73be4c82af9e4bd681e2e09025742404": {
          "model_module": "@jupyter-widgets/controls",
          "model_name": "ProgressStyleModel",
          "model_module_version": "1.5.0",
          "state": {
            "_model_module": "@jupyter-widgets/controls",
            "_model_module_version": "1.5.0",
            "_model_name": "ProgressStyleModel",
            "_view_count": null,
            "_view_module": "@jupyter-widgets/base",
            "_view_module_version": "1.2.0",
            "_view_name": "StyleView",
            "bar_color": null,
            "description_width": ""
          }
        },
        "955fe2ae70cf4b09979c4e711cf1b506": {
          "model_module": "@jupyter-widgets/base",
          "model_name": "LayoutModel",
          "model_module_version": "1.2.0",
          "state": {
            "_model_module": "@jupyter-widgets/base",
            "_model_module_version": "1.2.0",
            "_model_name": "LayoutModel",
            "_view_count": null,
            "_view_module": "@jupyter-widgets/base",
            "_view_module_version": "1.2.0",
            "_view_name": "LayoutView",
            "align_content": null,
            "align_items": null,
            "align_self": null,
            "border": null,
            "bottom": null,
            "display": null,
            "flex": null,
            "flex_flow": null,
            "grid_area": null,
            "grid_auto_columns": null,
            "grid_auto_flow": null,
            "grid_auto_rows": null,
            "grid_column": null,
            "grid_gap": null,
            "grid_row": null,
            "grid_template_areas": null,
            "grid_template_columns": null,
            "grid_template_rows": null,
            "height": null,
            "justify_content": null,
            "justify_items": null,
            "left": null,
            "margin": null,
            "max_height": null,
            "max_width": null,
            "min_height": null,
            "min_width": null,
            "object_fit": null,
            "object_position": null,
            "order": null,
            "overflow": null,
            "overflow_x": null,
            "overflow_y": null,
            "padding": null,
            "right": null,
            "top": null,
            "visibility": null,
            "width": null
          }
        },
        "ab062105e79344c9864bb8c968aa24b8": {
          "model_module": "@jupyter-widgets/controls",
          "model_name": "DescriptionStyleModel",
          "model_module_version": "1.5.0",
          "state": {
            "_model_module": "@jupyter-widgets/controls",
            "_model_module_version": "1.5.0",
            "_model_name": "DescriptionStyleModel",
            "_view_count": null,
            "_view_module": "@jupyter-widgets/base",
            "_view_module_version": "1.2.0",
            "_view_name": "StyleView",
            "description_width": ""
          }
        },
        "0029693debc04a0d92eeacbd9232ce3d": {
          "model_module": "@jupyter-widgets/controls",
          "model_name": "HBoxModel",
          "model_module_version": "1.5.0",
          "state": {
            "_dom_classes": [],
            "_model_module": "@jupyter-widgets/controls",
            "_model_module_version": "1.5.0",
            "_model_name": "HBoxModel",
            "_view_count": null,
            "_view_module": "@jupyter-widgets/controls",
            "_view_module_version": "1.5.0",
            "_view_name": "HBoxView",
            "box_style": "",
            "children": [
              "IPY_MODEL_5a27a9918756423b85d908a8a5f2dc3b",
              "IPY_MODEL_dd0dbfae8cda4600ab3c752b700cb7f2",
              "IPY_MODEL_510bab3523b447cd89f9e48ac0f6e7e4"
            ],
            "layout": "IPY_MODEL_c600616810844166a47a96cd424d3a1b"
          }
        },
        "5a27a9918756423b85d908a8a5f2dc3b": {
          "model_module": "@jupyter-widgets/controls",
          "model_name": "HTMLModel",
          "model_module_version": "1.5.0",
          "state": {
            "_dom_classes": [],
            "_model_module": "@jupyter-widgets/controls",
            "_model_module_version": "1.5.0",
            "_model_name": "HTMLModel",
            "_view_count": null,
            "_view_module": "@jupyter-widgets/controls",
            "_view_module_version": "1.5.0",
            "_view_name": "HTMLView",
            "description": "",
            "description_tooltip": null,
            "layout": "IPY_MODEL_0f9051f77c284f2aa916d290ba95fd45",
            "placeholder": "​",
            "style": "IPY_MODEL_55c5a89e47724c3c8b23fc2e44dfa40a",
            "value": "100%"
          }
        },
        "dd0dbfae8cda4600ab3c752b700cb7f2": {
          "model_module": "@jupyter-widgets/controls",
          "model_name": "FloatProgressModel",
          "model_module_version": "1.5.0",
          "state": {
            "_dom_classes": [],
            "_model_module": "@jupyter-widgets/controls",
            "_model_module_version": "1.5.0",
            "_model_name": "FloatProgressModel",
            "_view_count": null,
            "_view_module": "@jupyter-widgets/controls",
            "_view_module_version": "1.5.0",
            "_view_name": "ProgressView",
            "bar_style": "success",
            "description": "",
            "description_tooltip": null,
            "layout": "IPY_MODEL_dac9276013e747989ed48a6cdbc85b3f",
            "max": 100,
            "min": 0,
            "orientation": "horizontal",
            "style": "IPY_MODEL_e3b33ad6601d4999ba31d6d0a21b4ee4",
            "value": 100
          }
        },
        "510bab3523b447cd89f9e48ac0f6e7e4": {
          "model_module": "@jupyter-widgets/controls",
          "model_name": "HTMLModel",
          "model_module_version": "1.5.0",
          "state": {
            "_dom_classes": [],
            "_model_module": "@jupyter-widgets/controls",
            "_model_module_version": "1.5.0",
            "_model_name": "HTMLModel",
            "_view_count": null,
            "_view_module": "@jupyter-widgets/controls",
            "_view_module_version": "1.5.0",
            "_view_name": "HTMLView",
            "description": "",
            "description_tooltip": null,
            "layout": "IPY_MODEL_e88a0675565546b2bfb31cc396c3da3a",
            "placeholder": "​",
            "style": "IPY_MODEL_c7de46125c7b44d89584b0868438d975",
            "value": " 100/100 [00:00&lt;00:00, 877.07it/s]"
          }
        },
        "c600616810844166a47a96cd424d3a1b": {
          "model_module": "@jupyter-widgets/base",
          "model_name": "LayoutModel",
          "model_module_version": "1.2.0",
          "state": {
            "_model_module": "@jupyter-widgets/base",
            "_model_module_version": "1.2.0",
            "_model_name": "LayoutModel",
            "_view_count": null,
            "_view_module": "@jupyter-widgets/base",
            "_view_module_version": "1.2.0",
            "_view_name": "LayoutView",
            "align_content": null,
            "align_items": null,
            "align_self": null,
            "border": null,
            "bottom": null,
            "display": null,
            "flex": null,
            "flex_flow": null,
            "grid_area": null,
            "grid_auto_columns": null,
            "grid_auto_flow": null,
            "grid_auto_rows": null,
            "grid_column": null,
            "grid_gap": null,
            "grid_row": null,
            "grid_template_areas": null,
            "grid_template_columns": null,
            "grid_template_rows": null,
            "height": null,
            "justify_content": null,
            "justify_items": null,
            "left": null,
            "margin": null,
            "max_height": null,
            "max_width": null,
            "min_height": null,
            "min_width": null,
            "object_fit": null,
            "object_position": null,
            "order": null,
            "overflow": null,
            "overflow_x": null,
            "overflow_y": null,
            "padding": null,
            "right": null,
            "top": null,
            "visibility": null,
            "width": null
          }
        },
        "0f9051f77c284f2aa916d290ba95fd45": {
          "model_module": "@jupyter-widgets/base",
          "model_name": "LayoutModel",
          "model_module_version": "1.2.0",
          "state": {
            "_model_module": "@jupyter-widgets/base",
            "_model_module_version": "1.2.0",
            "_model_name": "LayoutModel",
            "_view_count": null,
            "_view_module": "@jupyter-widgets/base",
            "_view_module_version": "1.2.0",
            "_view_name": "LayoutView",
            "align_content": null,
            "align_items": null,
            "align_self": null,
            "border": null,
            "bottom": null,
            "display": null,
            "flex": null,
            "flex_flow": null,
            "grid_area": null,
            "grid_auto_columns": null,
            "grid_auto_flow": null,
            "grid_auto_rows": null,
            "grid_column": null,
            "grid_gap": null,
            "grid_row": null,
            "grid_template_areas": null,
            "grid_template_columns": null,
            "grid_template_rows": null,
            "height": null,
            "justify_content": null,
            "justify_items": null,
            "left": null,
            "margin": null,
            "max_height": null,
            "max_width": null,
            "min_height": null,
            "min_width": null,
            "object_fit": null,
            "object_position": null,
            "order": null,
            "overflow": null,
            "overflow_x": null,
            "overflow_y": null,
            "padding": null,
            "right": null,
            "top": null,
            "visibility": null,
            "width": null
          }
        },
        "55c5a89e47724c3c8b23fc2e44dfa40a": {
          "model_module": "@jupyter-widgets/controls",
          "model_name": "DescriptionStyleModel",
          "model_module_version": "1.5.0",
          "state": {
            "_model_module": "@jupyter-widgets/controls",
            "_model_module_version": "1.5.0",
            "_model_name": "DescriptionStyleModel",
            "_view_count": null,
            "_view_module": "@jupyter-widgets/base",
            "_view_module_version": "1.2.0",
            "_view_name": "StyleView",
            "description_width": ""
          }
        },
        "dac9276013e747989ed48a6cdbc85b3f": {
          "model_module": "@jupyter-widgets/base",
          "model_name": "LayoutModel",
          "model_module_version": "1.2.0",
          "state": {
            "_model_module": "@jupyter-widgets/base",
            "_model_module_version": "1.2.0",
            "_model_name": "LayoutModel",
            "_view_count": null,
            "_view_module": "@jupyter-widgets/base",
            "_view_module_version": "1.2.0",
            "_view_name": "LayoutView",
            "align_content": null,
            "align_items": null,
            "align_self": null,
            "border": null,
            "bottom": null,
            "display": null,
            "flex": null,
            "flex_flow": null,
            "grid_area": null,
            "grid_auto_columns": null,
            "grid_auto_flow": null,
            "grid_auto_rows": null,
            "grid_column": null,
            "grid_gap": null,
            "grid_row": null,
            "grid_template_areas": null,
            "grid_template_columns": null,
            "grid_template_rows": null,
            "height": null,
            "justify_content": null,
            "justify_items": null,
            "left": null,
            "margin": null,
            "max_height": null,
            "max_width": null,
            "min_height": null,
            "min_width": null,
            "object_fit": null,
            "object_position": null,
            "order": null,
            "overflow": null,
            "overflow_x": null,
            "overflow_y": null,
            "padding": null,
            "right": null,
            "top": null,
            "visibility": null,
            "width": null
          }
        },
        "e3b33ad6601d4999ba31d6d0a21b4ee4": {
          "model_module": "@jupyter-widgets/controls",
          "model_name": "ProgressStyleModel",
          "model_module_version": "1.5.0",
          "state": {
            "_model_module": "@jupyter-widgets/controls",
            "_model_module_version": "1.5.0",
            "_model_name": "ProgressStyleModel",
            "_view_count": null,
            "_view_module": "@jupyter-widgets/base",
            "_view_module_version": "1.2.0",
            "_view_name": "StyleView",
            "bar_color": null,
            "description_width": ""
          }
        },
        "e88a0675565546b2bfb31cc396c3da3a": {
          "model_module": "@jupyter-widgets/base",
          "model_name": "LayoutModel",
          "model_module_version": "1.2.0",
          "state": {
            "_model_module": "@jupyter-widgets/base",
            "_model_module_version": "1.2.0",
            "_model_name": "LayoutModel",
            "_view_count": null,
            "_view_module": "@jupyter-widgets/base",
            "_view_module_version": "1.2.0",
            "_view_name": "LayoutView",
            "align_content": null,
            "align_items": null,
            "align_self": null,
            "border": null,
            "bottom": null,
            "display": null,
            "flex": null,
            "flex_flow": null,
            "grid_area": null,
            "grid_auto_columns": null,
            "grid_auto_flow": null,
            "grid_auto_rows": null,
            "grid_column": null,
            "grid_gap": null,
            "grid_row": null,
            "grid_template_areas": null,
            "grid_template_columns": null,
            "grid_template_rows": null,
            "height": null,
            "justify_content": null,
            "justify_items": null,
            "left": null,
            "margin": null,
            "max_height": null,
            "max_width": null,
            "min_height": null,
            "min_width": null,
            "object_fit": null,
            "object_position": null,
            "order": null,
            "overflow": null,
            "overflow_x": null,
            "overflow_y": null,
            "padding": null,
            "right": null,
            "top": null,
            "visibility": null,
            "width": null
          }
        },
        "c7de46125c7b44d89584b0868438d975": {
          "model_module": "@jupyter-widgets/controls",
          "model_name": "DescriptionStyleModel",
          "model_module_version": "1.5.0",
          "state": {
            "_model_module": "@jupyter-widgets/controls",
            "_model_module_version": "1.5.0",
            "_model_name": "DescriptionStyleModel",
            "_view_count": null,
            "_view_module": "@jupyter-widgets/base",
            "_view_module_version": "1.2.0",
            "_view_name": "StyleView",
            "description_width": ""
          }
        },
        "bf2e3dc7760c4c12b3d985e9d9957bda": {
          "model_module": "@jupyter-widgets/controls",
          "model_name": "VBoxModel",
          "model_module_version": "1.5.0",
          "state": {
            "_dom_classes": [],
            "_model_module": "@jupyter-widgets/controls",
            "_model_module_version": "1.5.0",
            "_model_name": "VBoxModel",
            "_view_count": null,
            "_view_module": "@jupyter-widgets/controls",
            "_view_module_version": "1.5.0",
            "_view_name": "VBoxView",
            "box_style": "",
            "children": [
              "IPY_MODEL_9cc29665bdf846d7b482428898cf7b58",
              "IPY_MODEL_1c2744a0b8184f34a622e5f00a362266"
            ],
            "layout": "IPY_MODEL_8d891e3e8565405892d8965137cece30"
          }
        },
        "9cc29665bdf846d7b482428898cf7b58": {
          "model_module": "@jupyter-widgets/controls",
          "model_name": "LabelModel",
          "model_module_version": "1.5.0",
          "state": {
            "_dom_classes": [],
            "_model_module": "@jupyter-widgets/controls",
            "_model_module_version": "1.5.0",
            "_model_name": "LabelModel",
            "_view_count": null,
            "_view_module": "@jupyter-widgets/controls",
            "_view_module_version": "1.5.0",
            "_view_name": "LabelView",
            "description": "",
            "description_tooltip": null,
            "layout": "IPY_MODEL_27592dc2b9a84a70a3e3d06752e32cfa",
            "placeholder": "​",
            "style": "IPY_MODEL_23991e4c4b3f4fc1bb99468229e7c707",
            "value": "27.619 MB of 27.619 MB uploaded\r"
          }
        },
        "1c2744a0b8184f34a622e5f00a362266": {
          "model_module": "@jupyter-widgets/controls",
          "model_name": "FloatProgressModel",
          "model_module_version": "1.5.0",
          "state": {
            "_dom_classes": [],
            "_model_module": "@jupyter-widgets/controls",
            "_model_module_version": "1.5.0",
            "_model_name": "FloatProgressModel",
            "_view_count": null,
            "_view_module": "@jupyter-widgets/controls",
            "_view_module_version": "1.5.0",
            "_view_name": "ProgressView",
            "bar_style": "",
            "description": "",
            "description_tooltip": null,
            "layout": "IPY_MODEL_cbf38aac2f864c5aa5fdd219c598d038",
            "max": 1,
            "min": 0,
            "orientation": "horizontal",
            "style": "IPY_MODEL_c74f920f9a52485dbdfd9fd2ff191bf5",
            "value": 1
          }
        },
        "8d891e3e8565405892d8965137cece30": {
          "model_module": "@jupyter-widgets/base",
          "model_name": "LayoutModel",
          "model_module_version": "1.2.0",
          "state": {
            "_model_module": "@jupyter-widgets/base",
            "_model_module_version": "1.2.0",
            "_model_name": "LayoutModel",
            "_view_count": null,
            "_view_module": "@jupyter-widgets/base",
            "_view_module_version": "1.2.0",
            "_view_name": "LayoutView",
            "align_content": null,
            "align_items": null,
            "align_self": null,
            "border": null,
            "bottom": null,
            "display": null,
            "flex": null,
            "flex_flow": null,
            "grid_area": null,
            "grid_auto_columns": null,
            "grid_auto_flow": null,
            "grid_auto_rows": null,
            "grid_column": null,
            "grid_gap": null,
            "grid_row": null,
            "grid_template_areas": null,
            "grid_template_columns": null,
            "grid_template_rows": null,
            "height": null,
            "justify_content": null,
            "justify_items": null,
            "left": null,
            "margin": null,
            "max_height": null,
            "max_width": null,
            "min_height": null,
            "min_width": null,
            "object_fit": null,
            "object_position": null,
            "order": null,
            "overflow": null,
            "overflow_x": null,
            "overflow_y": null,
            "padding": null,
            "right": null,
            "top": null,
            "visibility": null,
            "width": null
          }
        },
        "27592dc2b9a84a70a3e3d06752e32cfa": {
          "model_module": "@jupyter-widgets/base",
          "model_name": "LayoutModel",
          "model_module_version": "1.2.0",
          "state": {
            "_model_module": "@jupyter-widgets/base",
            "_model_module_version": "1.2.0",
            "_model_name": "LayoutModel",
            "_view_count": null,
            "_view_module": "@jupyter-widgets/base",
            "_view_module_version": "1.2.0",
            "_view_name": "LayoutView",
            "align_content": null,
            "align_items": null,
            "align_self": null,
            "border": null,
            "bottom": null,
            "display": null,
            "flex": null,
            "flex_flow": null,
            "grid_area": null,
            "grid_auto_columns": null,
            "grid_auto_flow": null,
            "grid_auto_rows": null,
            "grid_column": null,
            "grid_gap": null,
            "grid_row": null,
            "grid_template_areas": null,
            "grid_template_columns": null,
            "grid_template_rows": null,
            "height": null,
            "justify_content": null,
            "justify_items": null,
            "left": null,
            "margin": null,
            "max_height": null,
            "max_width": null,
            "min_height": null,
            "min_width": null,
            "object_fit": null,
            "object_position": null,
            "order": null,
            "overflow": null,
            "overflow_x": null,
            "overflow_y": null,
            "padding": null,
            "right": null,
            "top": null,
            "visibility": null,
            "width": null
          }
        },
        "23991e4c4b3f4fc1bb99468229e7c707": {
          "model_module": "@jupyter-widgets/controls",
          "model_name": "DescriptionStyleModel",
          "model_module_version": "1.5.0",
          "state": {
            "_model_module": "@jupyter-widgets/controls",
            "_model_module_version": "1.5.0",
            "_model_name": "DescriptionStyleModel",
            "_view_count": null,
            "_view_module": "@jupyter-widgets/base",
            "_view_module_version": "1.2.0",
            "_view_name": "StyleView",
            "description_width": ""
          }
        },
        "cbf38aac2f864c5aa5fdd219c598d038": {
          "model_module": "@jupyter-widgets/base",
          "model_name": "LayoutModel",
          "model_module_version": "1.2.0",
          "state": {
            "_model_module": "@jupyter-widgets/base",
            "_model_module_version": "1.2.0",
            "_model_name": "LayoutModel",
            "_view_count": null,
            "_view_module": "@jupyter-widgets/base",
            "_view_module_version": "1.2.0",
            "_view_name": "LayoutView",
            "align_content": null,
            "align_items": null,
            "align_self": null,
            "border": null,
            "bottom": null,
            "display": null,
            "flex": null,
            "flex_flow": null,
            "grid_area": null,
            "grid_auto_columns": null,
            "grid_auto_flow": null,
            "grid_auto_rows": null,
            "grid_column": null,
            "grid_gap": null,
            "grid_row": null,
            "grid_template_areas": null,
            "grid_template_columns": null,
            "grid_template_rows": null,
            "height": null,
            "justify_content": null,
            "justify_items": null,
            "left": null,
            "margin": null,
            "max_height": null,
            "max_width": null,
            "min_height": null,
            "min_width": null,
            "object_fit": null,
            "object_position": null,
            "order": null,
            "overflow": null,
            "overflow_x": null,
            "overflow_y": null,
            "padding": null,
            "right": null,
            "top": null,
            "visibility": null,
            "width": null
          }
        },
        "c74f920f9a52485dbdfd9fd2ff191bf5": {
          "model_module": "@jupyter-widgets/controls",
          "model_name": "ProgressStyleModel",
          "model_module_version": "1.5.0",
          "state": {
            "_model_module": "@jupyter-widgets/controls",
            "_model_module_version": "1.5.0",
            "_model_name": "ProgressStyleModel",
            "_view_count": null,
            "_view_module": "@jupyter-widgets/base",
            "_view_module_version": "1.2.0",
            "_view_name": "StyleView",
            "bar_color": null,
            "description_width": ""
          }
        }
      }
    }
  },
  "cells": [
    {
      "cell_type": "markdown",
      "metadata": {
        "id": "view-in-github",
        "colab_type": "text"
      },
      "source": [
        "<a href=\"https://colab.research.google.com/github/cosmo3769/reinforcement_learning/blob/master/CliffWalking_Q_Learning_implementation.ipynb\" target=\"_parent\"><img src=\"https://colab.research.google.com/assets/colab-badge.svg\" alt=\"Open In Colab\"/></a>"
      ]
    },
    {
      "cell_type": "markdown",
      "source": [
        "# Setup and Imports"
      ],
      "metadata": {
        "id": "gwlGD48IQR5_"
      }
    },
    {
      "cell_type": "code",
      "source": [
        "# Check if the notebook is running on colab or not.\n",
        "try:\n",
        "    import google.colab\n",
        "    COLAB = True\n",
        "except:\n",
        "    COLAB = False\n",
        "print(f'Is the notebook using colab environment: {COLAB}')\n",
        "\n",
        "if COLAB:\n",
        "    # Install W&B for MLOPs.\n",
        "    print(f'Installing Weights and Biases')\n",
        "    !pip install -qq --upgrade wandb\n",
        "    # Install gymnasium\n",
        "    print(f'Installing gymnasium')\n",
        "    !pip install -qq gymnasium"
      ],
      "metadata": {
        "colab": {
          "base_uri": "https://localhost:8080/"
        },
        "id": "P8bY86aKQU8P",
        "outputId": "e916ee27-ab0a-45f8-d4df-893484564169"
      },
      "execution_count": 1,
      "outputs": [
        {
          "output_type": "stream",
          "name": "stdout",
          "text": [
            "Is the notebook using colab environment: True\n",
            "Installing Weights and Biases\n",
            "\u001b[2K     \u001b[90m━━━━━━━━━━━━━━━━━━━━━━━━━━━━━━━━━━━━━━━━\u001b[0m \u001b[32m2.1/2.1 MB\u001b[0m \u001b[31m20.8 MB/s\u001b[0m eta \u001b[36m0:00:00\u001b[0m\n",
            "\u001b[2K     \u001b[90m━━━━━━━━━━━━━━━━━━━━━━━━━━━━━━━━━━━━━━━━\u001b[0m \u001b[32m190.6/190.6 kB\u001b[0m \u001b[31m22.0 MB/s\u001b[0m eta \u001b[36m0:00:00\u001b[0m\n",
            "\u001b[2K     \u001b[90m━━━━━━━━━━━━━━━━━━━━━━━━━━━━━━━━━━━━━━━━\u001b[0m \u001b[32m251.7/251.7 kB\u001b[0m \u001b[31m28.0 MB/s\u001b[0m eta \u001b[36m0:00:00\u001b[0m\n",
            "\u001b[2K     \u001b[90m━━━━━━━━━━━━━━━━━━━━━━━━━━━━━━━━━━━━━━━━\u001b[0m \u001b[32m62.7/62.7 kB\u001b[0m \u001b[31m7.2 MB/s\u001b[0m eta \u001b[36m0:00:00\u001b[0m\n",
            "\u001b[?25hInstalling gymnasium\n",
            "\u001b[2K     \u001b[90m━━━━━━━━━━━━━━━━━━━━━━━━━━━━━━━━━━━━━━━━\u001b[0m \u001b[32m953.9/953.9 kB\u001b[0m \u001b[31m6.2 MB/s\u001b[0m eta \u001b[36m0:00:00\u001b[0m\n",
            "\u001b[?25h"
          ]
        }
      ]
    },
    {
      "cell_type": "code",
      "source": [
        "# Login to your W&B account.\n",
        "import wandb\n",
        "wandb.login()"
      ],
      "metadata": {
        "colab": {
          "base_uri": "https://localhost:8080/",
          "height": 119
        },
        "id": "kK-6ZUrWQrzL",
        "outputId": "b4ea7f1d-41f0-4867-c843-bf9736be935f"
      },
      "execution_count": 37,
      "outputs": [
        {
          "output_type": "display_data",
          "data": {
            "text/plain": [
              "<IPython.core.display.Javascript object>"
            ],
            "application/javascript": [
              "\n",
              "        window._wandbApiKey = new Promise((resolve, reject) => {\n",
              "            function loadScript(url) {\n",
              "            return new Promise(function(resolve, reject) {\n",
              "                let newScript = document.createElement(\"script\");\n",
              "                newScript.onerror = reject;\n",
              "                newScript.onload = resolve;\n",
              "                document.body.appendChild(newScript);\n",
              "                newScript.src = url;\n",
              "            });\n",
              "            }\n",
              "            loadScript(\"https://cdn.jsdelivr.net/npm/postmate/build/postmate.min.js\").then(() => {\n",
              "            const iframe = document.createElement('iframe')\n",
              "            iframe.style.cssText = \"width:0;height:0;border:none\"\n",
              "            document.body.appendChild(iframe)\n",
              "            const handshake = new Postmate({\n",
              "                container: iframe,\n",
              "                url: 'https://wandb.ai/authorize'\n",
              "            });\n",
              "            const timeout = setTimeout(() => reject(\"Couldn't auto authenticate\"), 5000)\n",
              "            handshake.then(function(child) {\n",
              "                child.on('authorize', data => {\n",
              "                    clearTimeout(timeout)\n",
              "                    resolve(data)\n",
              "                });\n",
              "            });\n",
              "            })\n",
              "        });\n",
              "    "
            ]
          },
          "metadata": {}
        },
        {
          "output_type": "stream",
          "name": "stderr",
          "text": [
            "\u001b[34m\u001b[1mwandb\u001b[0m: Logging into wandb.ai. (Learn how to deploy a W&B server locally: https://wandb.me/wandb-server)\n",
            "\u001b[34m\u001b[1mwandb\u001b[0m: You can find your API key in your browser here: https://wandb.ai/authorize\n",
            "wandb: Paste an API key from your profile and hit enter, or press ctrl+c to quit:"
          ]
        },
        {
          "name": "stdout",
          "output_type": "stream",
          "text": [
            " ··········\n"
          ]
        },
        {
          "output_type": "stream",
          "name": "stderr",
          "text": [
            "\u001b[34m\u001b[1mwandb\u001b[0m: Appending key for api.wandb.ai to your netrc file: /root/.netrc\n"
          ]
        },
        {
          "output_type": "execute_result",
          "data": {
            "text/plain": [
              "True"
            ]
          },
          "metadata": {},
          "execution_count": 37
        }
      ]
    },
    {
      "cell_type": "code",
      "execution_count": 2,
      "metadata": {
        "id": "qvz62-R9IlZp"
      },
      "outputs": [],
      "source": [
        "import os\n",
        "import tqdm\n",
        "import random\n",
        "import imageio\n",
        "import numpy as np\n",
        "import gymnasium as gym\n",
        "import matplotlib.pyplot as plt\n",
        "\n",
        "from argparse import Namespace\n",
        "from tqdm.notebook import tqdm"
      ]
    },
    {
      "cell_type": "markdown",
      "source": [
        "# Initializing env"
      ],
      "metadata": {
        "id": "5bJMifwMya2f"
      }
    },
    {
      "cell_type": "code",
      "source": [
        "env = gym.make('CliffWalking-v0', render_mode=\"rgb_array\")"
      ],
      "metadata": {
        "id": "nFUS4cDmVml1"
      },
      "execution_count": 3,
      "outputs": []
    },
    {
      "cell_type": "markdown",
      "source": [
        "# Observation Space"
      ],
      "metadata": {
        "id": "h1fvT1LhysUi"
      }
    },
    {
      "cell_type": "code",
      "source": [
        "print(\"Observation Space =\", env.observation_space)\n",
        "print(\"Sample observation =\", env.observation_space.sample()) # Get a random observation"
      ],
      "metadata": {
        "colab": {
          "base_uri": "https://localhost:8080/"
        },
        "id": "plAGXx06z6R_",
        "outputId": "23a7d8e9-5ab4-41d0-915b-c3824cba329d"
      },
      "execution_count": 58,
      "outputs": [
        {
          "output_type": "stream",
          "name": "stdout",
          "text": [
            "Observation Space = Discrete(48)\n",
            "Sample observation = 38\n"
          ]
        }
      ]
    },
    {
      "cell_type": "markdown",
      "source": [
        "# Action Space"
      ],
      "metadata": {
        "id": "XF_TGiZtyxVG"
      }
    },
    {
      "cell_type": "code",
      "source": [
        "print(\"Action Space =\", env.action_space)\n",
        "print(\"Sample action =\", env.action_space.sample()) # Take a random action"
      ],
      "metadata": {
        "colab": {
          "base_uri": "https://localhost:8080/"
        },
        "id": "6NDFyLvU0mer",
        "outputId": "d9c9aefb-14b0-4963-9864-733b8b54dba9"
      },
      "execution_count": 59,
      "outputs": [
        {
          "output_type": "stream",
          "name": "stdout",
          "text": [
            "Action Space = Discrete(4)\n",
            "Sample action = 2\n"
          ]
        }
      ]
    },
    {
      "cell_type": "markdown",
      "source": [
        "# Observing the environment"
      ],
      "metadata": {
        "id": "2yGW_0YuydvV"
      }
    },
    {
      "cell_type": "code",
      "source": [
        "state, info = env.reset()"
      ],
      "metadata": {
        "id": "dpq0fIxswf10"
      },
      "execution_count": 6,
      "outputs": []
    },
    {
      "cell_type": "code",
      "source": [
        "print(\"Initial start state =\", state)\n",
        "print(\"Transition probability =\", info)"
      ],
      "metadata": {
        "colab": {
          "base_uri": "https://localhost:8080/"
        },
        "id": "U43EU11nw74l",
        "outputId": "05d739d8-72c7-41cc-f908-8f828fb221ff"
      },
      "execution_count": 61,
      "outputs": [
        {
          "output_type": "stream",
          "name": "stdout",
          "text": [
            "Initial start state = 36\n",
            "Transition probability = {'prob': 1.0}\n"
          ]
        }
      ]
    },
    {
      "cell_type": "markdown",
      "source": [
        "# Executing an action"
      ],
      "metadata": {
        "id": "6nuW0oe0K-ZK"
      }
    },
    {
      "cell_type": "code",
      "source": [
        "action = env.action_space.sample()\n",
        "print(\"Action taken =\", action)\n",
        "\n",
        "new_state, reward, terminated, truncated, info = env.step(action)\n",
        "print(\"State (index) reached after taking an action =\", new_state)\n",
        "print(\"Reward recieved after taking an action =\", reward)\n",
        "print(\"Is terminated? =\", terminated)\n",
        "print(\"Is truncated? =\", truncated)\n",
        "print(\"Transition probability =\", info)"
      ],
      "metadata": {
        "colab": {
          "base_uri": "https://localhost:8080/"
        },
        "id": "7VRW3PhqLA54",
        "outputId": "6aee0989-3cd9-4a08-f097-37072a92c518"
      },
      "execution_count": 64,
      "outputs": [
        {
          "output_type": "stream",
          "name": "stdout",
          "text": [
            "Action taken = 2\n",
            "State (index) reached after taking an action = 36\n",
            "Reward recieved after taking an action = -1\n",
            "Is terminated? = False\n",
            "Is truncated? = False\n",
            "Transition probability = {'prob': 1.0}\n"
          ]
        }
      ]
    },
    {
      "cell_type": "markdown",
      "source": [
        "# Initializing Q-table"
      ],
      "metadata": {
        "id": "_Zo6GJ_G0G6c"
      }
    },
    {
      "cell_type": "code",
      "source": [
        "state_space = env.observation_space.n\n",
        "print(\"There are\", state_space, \"possible states in `CliffWalking-v0` environment.\")\n",
        "\n",
        "action_space = env.action_space.n\n",
        "print(\"There are\", action_space, \"possible actions that we can select to move in `CliffWalking-v0 environment.\")"
      ],
      "metadata": {
        "colab": {
          "base_uri": "https://localhost:8080/"
        },
        "id": "kvv0y5ZKodoY",
        "outputId": "0bd67ad8-06d1-46e7-8b0e-84fb7c8376b8"
      },
      "execution_count": 67,
      "outputs": [
        {
          "output_type": "stream",
          "name": "stdout",
          "text": [
            "There are 48 possible states in `CliffWalking-v0` environment.\n",
            "There are 4 possible actions that we can select to move in `CliffWalking-v0 environment.\n"
          ]
        }
      ]
    },
    {
      "cell_type": "code",
      "source": [
        "# Let's create our Qtable of size (state_space, action_space) and initialize each values to 0.\n",
        "def initialize_q_table(state_space, action_space):\n",
        "    Qtable = np.zeros((state_space, action_space))\n",
        "    return Qtable"
      ],
      "metadata": {
        "id": "gepekQFMonMg"
      },
      "execution_count": 11,
      "outputs": []
    },
    {
      "cell_type": "code",
      "source": [
        "Qtable_cliffwalking = initialize_q_table(state_space, action_space)"
      ],
      "metadata": {
        "id": "kHJE0bQcoteV"
      },
      "execution_count": 12,
      "outputs": []
    },
    {
      "cell_type": "code",
      "source": [
        "Qtable_cliffwalking"
      ],
      "metadata": {
        "colab": {
          "base_uri": "https://localhost:8080/"
        },
        "id": "P5w-5Rxko0Ol",
        "outputId": "613ce734-036e-47ac-be6f-90570bc8f709"
      },
      "execution_count": 13,
      "outputs": [
        {
          "output_type": "execute_result",
          "data": {
            "text/plain": [
              "array([[0., 0., 0., 0.],\n",
              "       [0., 0., 0., 0.],\n",
              "       [0., 0., 0., 0.],\n",
              "       [0., 0., 0., 0.],\n",
              "       [0., 0., 0., 0.],\n",
              "       [0., 0., 0., 0.],\n",
              "       [0., 0., 0., 0.],\n",
              "       [0., 0., 0., 0.],\n",
              "       [0., 0., 0., 0.],\n",
              "       [0., 0., 0., 0.],\n",
              "       [0., 0., 0., 0.],\n",
              "       [0., 0., 0., 0.],\n",
              "       [0., 0., 0., 0.],\n",
              "       [0., 0., 0., 0.],\n",
              "       [0., 0., 0., 0.],\n",
              "       [0., 0., 0., 0.],\n",
              "       [0., 0., 0., 0.],\n",
              "       [0., 0., 0., 0.],\n",
              "       [0., 0., 0., 0.],\n",
              "       [0., 0., 0., 0.],\n",
              "       [0., 0., 0., 0.],\n",
              "       [0., 0., 0., 0.],\n",
              "       [0., 0., 0., 0.],\n",
              "       [0., 0., 0., 0.],\n",
              "       [0., 0., 0., 0.],\n",
              "       [0., 0., 0., 0.],\n",
              "       [0., 0., 0., 0.],\n",
              "       [0., 0., 0., 0.],\n",
              "       [0., 0., 0., 0.],\n",
              "       [0., 0., 0., 0.],\n",
              "       [0., 0., 0., 0.],\n",
              "       [0., 0., 0., 0.],\n",
              "       [0., 0., 0., 0.],\n",
              "       [0., 0., 0., 0.],\n",
              "       [0., 0., 0., 0.],\n",
              "       [0., 0., 0., 0.],\n",
              "       [0., 0., 0., 0.],\n",
              "       [0., 0., 0., 0.],\n",
              "       [0., 0., 0., 0.],\n",
              "       [0., 0., 0., 0.],\n",
              "       [0., 0., 0., 0.],\n",
              "       [0., 0., 0., 0.],\n",
              "       [0., 0., 0., 0.],\n",
              "       [0., 0., 0., 0.],\n",
              "       [0., 0., 0., 0.],\n",
              "       [0., 0., 0., 0.],\n",
              "       [0., 0., 0., 0.],\n",
              "       [0., 0., 0., 0.]])"
            ]
          },
          "metadata": {},
          "execution_count": 13
        }
      ]
    },
    {
      "cell_type": "markdown",
      "source": [
        "# Build the agent"
      ],
      "metadata": {
        "id": "pnERfK-6Yjx_"
      }
    },
    {
      "cell_type": "code",
      "source": [
        "class CliffwalkingAgent:\n",
        "    def __init__(self, args):\n",
        "        self.args = args\n",
        "        self.training_error = []\n",
        "\n",
        "    def get_action(\n",
        "        self,\n",
        "        Qtable,\n",
        "        state,\n",
        "        epsilon\n",
        "    ):\n",
        "        if np.random.random() > epsilon:\n",
        "            return np.argmax(Qtable[state][:])\n",
        "        else:\n",
        "            return env.action_space.sample()\n",
        "\n",
        "    def update(\n",
        "        self,\n",
        "        Qtable,\n",
        "        state,\n",
        "        new_state,\n",
        "        action\n",
        "    ):\n",
        "        td_target = reward + self.args.discount_factor * np.max(Qtable[new_state])\n",
        "        td_error = td_target - Qtable[state][action]\n",
        "        self.training_error.append(td_error)\n",
        "        return Qtable[state][action] + self.args.learning_rate * td_error\n",
        "\n",
        "    def decay_epsilon(\n",
        "        self,\n",
        "        episode\n",
        "    ):\n",
        "        exp_decay = np.exp(-self.args.decay_rate * episode)\n",
        "        return self.args.min_epsilon + (self.args.max_epsilon - self.args.min_epsilon) * exp_decay"
      ],
      "metadata": {
        "id": "aJety-vRxRdN"
      },
      "execution_count": 14,
      "outputs": []
    },
    {
      "cell_type": "markdown",
      "source": [
        "# Hyperparameters"
      ],
      "metadata": {
        "id": "ce0r9tPq0Pmv"
      }
    },
    {
      "cell_type": "code",
      "source": [
        "configs = Namespace(\n",
        "    # Training parameters\n",
        "    n_training_episodes = 100000,       # Total number of training episodes\n",
        "    learning_rate = 0.7,                # Learning rate\n",
        "\n",
        "    # Evaluation parameters\n",
        "    n_eval_episodes = 100,              # Total number of test episodes\n",
        "\n",
        "    # Environment parameters\n",
        "    env_id = \"CliffWalking-v0\",         # Environment name\n",
        "    max_steps = 99,                     # Max steps per episode\n",
        "    discount_factor = 0.95,             # Discount Factor\n",
        "    eval_seed = [],                     # Evaluation seed of the environment\n",
        "\n",
        "    # Exploration parameters\n",
        "    max_epsilon = 1.0,                  # Exploration probability at start\n",
        "    min_epsilon = 0.05,                 # Minimum exploration probability (start exploiting)\n",
        "    decay_rate = 0.0005,                # Exponential decay rate for exploration prob\n",
        ")"
      ],
      "metadata": {
        "id": "IjgycZS6poYM"
      },
      "execution_count": 15,
      "outputs": []
    },
    {
      "cell_type": "markdown",
      "source": [
        "# Training Loop"
      ],
      "metadata": {
        "id": "N55OfFEI0RUV"
      }
    },
    {
      "cell_type": "code",
      "source": [
        "agent = CliffwalkingAgent(configs)"
      ],
      "metadata": {
        "id": "oNVErhQFzBCs"
      },
      "execution_count": 16,
      "outputs": []
    },
    {
      "cell_type": "code",
      "source": [
        "env = gym.wrappers.RecordEpisodeStatistics(env, deque_size=configs.n_training_episodes)\n",
        "\n",
        "def train(n_training_episodes, max_steps, Qtable):\n",
        "    \"\"\"\n",
        "    Train the agent for ``n_training_episodes`` episodes.\n",
        "    :param env: The training environment\n",
        "    :param max_steps: Maximum number of steps per episode\n",
        "    :param Q: The Q-table\n",
        "    \"\"\"\n",
        "    for episode in tqdm(range(n_training_episodes)):\n",
        "        # Reduce epsilon (because we need less and less exploration)\n",
        "        epsilon = agent.decay_epsilon(episode)\n",
        "        # Reset the environment\n",
        "        state, info = env.reset()\n",
        "        step = 0\n",
        "        terminated = False\n",
        "        truncated = False\n",
        "\n",
        "        # repeat\n",
        "        for step in range(max_steps):\n",
        "            # Use (epsilon greedy policy) to choose the action At\n",
        "            action = agent.get_action(Qtable, state, epsilon)\n",
        "\n",
        "            # Take action At and observe Rt+1 and St+1\n",
        "            # Take the action (a) and observe the newstate(s') and reward (r)\n",
        "            new_state, reward, terminated, truncated, info = env.step(action)\n",
        "\n",
        "            # Update Q(s,a):= Q(s,a) + lr [R(s,a) + gamma * max Q(s',a') - Q(s,a)]\n",
        "            Qtable[state][action] = agent.update(Qtable, state, new_state, action)\n",
        "\n",
        "            # If terminated or truncated finish the episode\n",
        "            if terminated or truncated:\n",
        "                break\n",
        "\n",
        "            # Our next state is the new state\n",
        "            state = new_state\n",
        "\n",
        "    return Qtable"
      ],
      "metadata": {
        "id": "5Cj5H9MYhGgD"
      },
      "execution_count": 17,
      "outputs": []
    },
    {
      "cell_type": "code",
      "source": [
        "Qtable_cliffwalking = train(configs.n_training_episodes, configs.max_steps, Qtable_cliffwalking)"
      ],
      "metadata": {
        "colab": {
          "base_uri": "https://localhost:8080/",
          "height": 49,
          "referenced_widgets": [
            "12da986695064b218708298ad3e0c535",
            "ca5e68ec6ada4c6889036c3bc6383749",
            "0904878ef56f44a28afde7a59d7f1c56",
            "f872763d36c14c9196696af6b7773f9b",
            "9c9e6dd628ab4fd79150c9bb5c944916",
            "01ea7127565f4c71a97e8ba35185ab4d",
            "a53f87ee979345b3acabe03ee3ff0e8c",
            "7abeb16a567f451185677ada4503d8ef",
            "73be4c82af9e4bd681e2e09025742404",
            "955fe2ae70cf4b09979c4e711cf1b506",
            "ab062105e79344c9864bb8c968aa24b8"
          ]
        },
        "id": "D-G_NauE2unA",
        "outputId": "7c500495-ccc0-482c-caa9-d106ec79ace4"
      },
      "execution_count": 18,
      "outputs": [
        {
          "output_type": "display_data",
          "data": {
            "text/plain": [
              "  0%|          | 0/100000 [00:00<?, ?it/s]"
            ],
            "application/vnd.jupyter.widget-view+json": {
              "version_major": 2,
              "version_minor": 0,
              "model_id": "12da986695064b218708298ad3e0c535"
            }
          },
          "metadata": {}
        }
      ]
    },
    {
      "cell_type": "markdown",
      "source": [
        "# Updated Q-values"
      ],
      "metadata": {
        "id": "7vEnvxIh0UXg"
      }
    },
    {
      "cell_type": "code",
      "source": [
        "Qtable_cliffwalking"
      ],
      "metadata": {
        "colab": {
          "base_uri": "https://localhost:8080/"
        },
        "id": "5AmlgECip4K3",
        "outputId": "117b67f9-f0e0-4828-ceff-fc89e5324443"
      },
      "execution_count": 19,
      "outputs": [
        {
          "output_type": "execute_result",
          "data": {
            "text/plain": [
              "array([[-10.7341754 , -10.24650042, -10.24650042, -10.7341754 ],\n",
              "       [-10.24650042,  -9.73315833,  -9.73315833, -10.7341754 ],\n",
              "       [ -9.73315833,  -9.19279825,  -9.19279825, -10.24650042],\n",
              "       [ -9.19279825,  -8.62399815,  -8.62399815,  -9.73315833],\n",
              "       [ -8.62399815,  -8.02526122,  -8.02526122,  -9.19279825],\n",
              "       [ -8.02526122,  -7.39501181,  -7.39501181,  -8.62399815],\n",
              "       [ -7.39501181,  -6.73159137,  -6.73159137,  -8.02526122],\n",
              "       [ -6.73159137,  -6.03325408,  -6.03325408,  -7.39501181],\n",
              "       [ -6.03325408,  -5.29816219,  -5.29816219,  -6.73159137],\n",
              "       [ -5.29816219,  -4.52438125,  -4.52438125,  -6.03325408],\n",
              "       [ -4.52438125,  -3.709875  ,  -3.709875  ,  -5.29816219],\n",
              "       [ -3.709875  ,  -3.709875  ,  -2.8525    ,  -4.52438125],\n",
              "       [-10.7341754 ,  -9.73315833,  -9.73315833, -10.24650042],\n",
              "       [-10.24650042,  -9.19279825,  -9.19279825, -10.24650042],\n",
              "       [ -9.73315833,  -8.62399815,  -8.62399815,  -9.73315833],\n",
              "       [ -9.19279825,  -8.02526122,  -8.02526122,  -9.19279825],\n",
              "       [ -8.62399815,  -7.39501181,  -7.39501181,  -8.62399815],\n",
              "       [ -8.02526122,  -6.73159137,  -6.73159137,  -8.02526122],\n",
              "       [ -7.39501181,  -6.03325408,  -6.03325408,  -7.39501181],\n",
              "       [ -6.73159137,  -5.29816219,  -5.29816219,  -6.73159137],\n",
              "       [ -6.03325408,  -4.52438125,  -4.52438125,  -6.03325408],\n",
              "       [ -5.29816219,  -3.709875  ,  -3.709875  ,  -5.29816219],\n",
              "       [ -4.52438125,  -2.8525    ,  -2.8525    ,  -4.52438125],\n",
              "       [ -3.709875  ,  -2.8525    ,  -1.95      ,  -3.709875  ],\n",
              "       [-10.24650042,  -9.19279825, -10.24650042,  -9.73315833],\n",
              "       [ -9.73315833,  -8.62399815, -10.24650042,  -9.73315833],\n",
              "       [ -9.19279825,  -8.02526122, -10.24650042,  -9.19279825],\n",
              "       [ -8.62399815,  -7.39501181, -10.24650042,  -8.62399815],\n",
              "       [ -8.02526122,  -6.73159137, -10.24650042,  -8.02526122],\n",
              "       [ -7.39501181,  -6.03325408, -10.24650042,  -7.39501181],\n",
              "       [ -6.73159137,  -5.29816219, -10.24650042,  -6.73159137],\n",
              "       [ -6.03325408,  -4.52438125, -10.24650042,  -6.03325408],\n",
              "       [ -5.29816219,  -3.709875  , -10.24650042,  -5.29816219],\n",
              "       [ -4.52438125,  -2.8525    , -10.24650042,  -4.52438125],\n",
              "       [ -3.709875  ,  -1.95      , -10.24650042,  -3.709875  ],\n",
              "       [ -2.8525    ,  -1.95      ,  -1.        ,  -2.8525    ],\n",
              "       [ -9.73315833, -10.24650042, -10.24650042, -10.24650042],\n",
              "       [  0.        ,   0.        ,   0.        ,   0.        ],\n",
              "       [  0.        ,   0.        ,   0.        ,   0.        ],\n",
              "       [  0.        ,   0.        ,   0.        ,   0.        ],\n",
              "       [  0.        ,   0.        ,   0.        ,   0.        ],\n",
              "       [  0.        ,   0.        ,   0.        ,   0.        ],\n",
              "       [  0.        ,   0.        ,   0.        ,   0.        ],\n",
              "       [  0.        ,   0.        ,   0.        ,   0.        ],\n",
              "       [  0.        ,   0.        ,   0.        ,   0.        ],\n",
              "       [  0.        ,   0.        ,   0.        ,   0.        ],\n",
              "       [  0.        ,   0.        ,   0.        ,   0.        ],\n",
              "       [  0.        ,   0.        ,   0.        ,   0.        ]])"
            ]
          },
          "metadata": {},
          "execution_count": 19
        }
      ]
    },
    {
      "cell_type": "markdown",
      "source": [
        "# Evaluate trained Agent"
      ],
      "metadata": {
        "id": "63yuLJo10WFj"
      }
    },
    {
      "cell_type": "code",
      "source": [
        "def evaluate_agent(env, max_steps, n_eval_episodes, Qtable, seed):\n",
        "  \"\"\"\n",
        "  Evaluate the agent for ``n_eval_episodes`` episodes and returns average reward and std of reward.\n",
        "  :param env: The evaluation environment\n",
        "  :param max_steps: Maximum number of steps per episode\n",
        "  :param n_eval_episodes: Number of episode to evaluate the agent\n",
        "  :param Q: The Q-table\n",
        "  :param seed: The evaluation seed array (for cliffwalking)\n",
        "  \"\"\"\n",
        "  episode_rewards = []\n",
        "  for episode in tqdm(range(n_eval_episodes)):\n",
        "    if seed:\n",
        "      state, info = env.reset(seed=seed[episode])\n",
        "    else:\n",
        "      state, info = env.reset()\n",
        "    step = 0\n",
        "    truncated = False\n",
        "    terminated = False\n",
        "    total_rewards_ep = 0\n",
        "\n",
        "    for step in range(max_steps):\n",
        "      # Take the action (index) that have the maximum expected future reward given that state\n",
        "      action = np.argmax(Qtable[state][:])\n",
        "      new_state, reward, terminated, truncated, info = env.step(action)\n",
        "      total_rewards_ep += reward\n",
        "\n",
        "      if terminated or truncated:\n",
        "        break\n",
        "      state = new_state\n",
        "    episode_rewards.append(total_rewards_ep)\n",
        "  mean_reward = np.mean(episode_rewards)\n",
        "  std_reward = np.std(episode_rewards)\n",
        "\n",
        "  return mean_reward, std_reward"
      ],
      "metadata": {
        "id": "d6YMRKlPqE_c"
      },
      "execution_count": 22,
      "outputs": []
    },
    {
      "cell_type": "code",
      "source": [
        "mean_reward, std_reward = evaluate_agent(env, configs.max_steps, configs.n_eval_episodes, Qtable_cliffwalking, configs.eval_seed)\n",
        "print(f\"Mean_reward={mean_reward:.2f} +/- {std_reward:.2f}\")"
      ],
      "metadata": {
        "colab": {
          "base_uri": "https://localhost:8080/",
          "height": 66,
          "referenced_widgets": [
            "0029693debc04a0d92eeacbd9232ce3d",
            "5a27a9918756423b85d908a8a5f2dc3b",
            "dd0dbfae8cda4600ab3c752b700cb7f2",
            "510bab3523b447cd89f9e48ac0f6e7e4",
            "c600616810844166a47a96cd424d3a1b",
            "0f9051f77c284f2aa916d290ba95fd45",
            "55c5a89e47724c3c8b23fc2e44dfa40a",
            "dac9276013e747989ed48a6cdbc85b3f",
            "e3b33ad6601d4999ba31d6d0a21b4ee4",
            "e88a0675565546b2bfb31cc396c3da3a",
            "c7de46125c7b44d89584b0868438d975"
          ]
        },
        "id": "dQh0MPpwqJQo",
        "outputId": "869054ba-cbdc-423b-e410-f6ed7f247ac1"
      },
      "execution_count": 23,
      "outputs": [
        {
          "output_type": "display_data",
          "data": {
            "text/plain": [
              "  0%|          | 0/100 [00:00<?, ?it/s]"
            ],
            "application/vnd.jupyter.widget-view+json": {
              "version_major": 2,
              "version_minor": 0,
              "model_id": "0029693debc04a0d92eeacbd9232ce3d"
            }
          },
          "metadata": {}
        },
        {
          "output_type": "stream",
          "name": "stdout",
          "text": [
            "Mean_reward=-13.00 +/- 0.00\n"
          ]
        }
      ]
    },
    {
      "cell_type": "markdown",
      "source": [
        "# Visualization chart"
      ],
      "metadata": {
        "id": "mLohwkGQ9ROc"
      }
    },
    {
      "cell_type": "code",
      "source": [
        "rolling_length = 500\n",
        "fig, axs = plt.subplots(ncols=3, figsize=(15, 5))\n",
        "\n",
        "# Plot Episode rewards\n",
        "axs[0].set_title(\"Episode Rewards\")\n",
        "reward_moving_average = (\n",
        "    np.convolve(\n",
        "        np.array(env.return_queue).flatten(), np.ones(rolling_length), mode=\"valid\"\n",
        "    )\n",
        "    / rolling_length\n",
        ")\n",
        "axs[0].plot(reward_moving_average, label='Rolling Average')\n",
        "axs[0].set_xlabel(\"Episode\")\n",
        "axs[0].set_ylabel(\"Episode Reward\")\n",
        "\n",
        "# Plot Episode lengths\n",
        "axs[1].set_title(\"Episode Lengths\")\n",
        "length_moving_average = (\n",
        "    np.convolve(\n",
        "        np.array(env.length_queue).flatten(), np.ones(rolling_length), mode=\"same\"\n",
        "    )\n",
        "    / rolling_length\n",
        ")\n",
        "axs[1].plot(length_moving_average, label='Rolling Average')\n",
        "axs[1].set_xlabel(\"Episode\")\n",
        "axs[1].set_ylabel(\"Episode Length\")\n",
        "\n",
        "# Plot Training Error\n",
        "axs[2].set_title(\"Training Error\")\n",
        "training_error_moving_average = (\n",
        "    np.convolve(np.array(agent.training_error), np.ones(rolling_length), mode=\"same\"\n",
        "    )\n",
        "    / rolling_length\n",
        ")\n",
        "axs[2].plot(training_error_moving_average, label='Rolling Average')\n",
        "axs[2].set_xlabel(\"Training Step\")\n",
        "axs[2].set_ylabel(\"Training Error\")\n",
        "\n",
        "# Adjust layout and show the plot\n",
        "plt.tight_layout()\n",
        "plt.show()"
      ],
      "metadata": {
        "colab": {
          "base_uri": "https://localhost:8080/",
          "height": 450
        },
        "id": "KznDaZccfw3E",
        "outputId": "8565081a-ced0-40d2-d153-f47162df2f85"
      },
      "execution_count": 55,
      "outputs": [
        {
          "output_type": "display_data",
          "data": {
            "text/plain": [
              "<Figure size 1500x500 with 3 Axes>"
            ],
            "image/png": "[encoded data removed]"
          },
          "metadata": {}
        }
      ]
    },
    {
      "cell_type": "markdown",
      "source": [
        "# Record Video of Optimal Policy"
      ],
      "metadata": {
        "id": "hXOH9irH0eOB"
      }
    },
    {
      "cell_type": "code",
      "source": [
        "def record_video(env, Qtable, fps=1):\n",
        "  \"\"\"\n",
        "  Generate a video of the optimal policy path\n",
        "  :param env\n",
        "  :param Qtable: Qtable of our agent\n",
        "  :param fps: how many frame per seconds (with CliffWalking-v0 we use 1)\n",
        "  \"\"\"\n",
        "  images = []\n",
        "  terminated = False\n",
        "  truncated = False\n",
        "  state, info = env.reset(seed=random.randint(0,500))\n",
        "  img = env.render()\n",
        "  images.append(img)\n",
        "  while not terminated or truncated:\n",
        "    # Use (greedy policy) to take the action (index) that have the maximum expected future reward given that state\n",
        "    action = np.argmax(Qtable[state][:])\n",
        "    state, reward, terminated, truncated, info = env.step(action) # We directly put next_state = state for recording logic\n",
        "    img = env.render()\n",
        "    images.append(img)\n",
        "  frames = np.transpose(np.array(images, dtype=np.uint8), (0, 3, 1, 2)) # We reshaped frames to log to wandb\n",
        "  return frames"
      ],
      "metadata": {
        "id": "CfxLwXf3qPEb"
      },
      "execution_count": 39,
      "outputs": []
    },
    {
      "cell_type": "markdown",
      "source": [
        "# Log visualization chart and video to wandb"
      ],
      "metadata": {
        "id": "eVRSMwEp9Xde"
      }
    },
    {
      "cell_type": "code",
      "source": [
        "# Initialize wandb run\n",
        "wandb.init(\n",
        "    entity='cosmo3769',\n",
        "    project='Q-Learning',\n",
        "    config=vars(configs),\n",
        "    name=f'{configs.env_id}'\n",
        ")\n",
        "\n",
        "# Log visualization chart\n",
        "wandb.log({'Visualization chart': fig})\n",
        "\n",
        "# Log optimal policy path\n",
        "optimal_policy_recorded_frames = record_video(env, Qtable_cliffwalking, fps=1)\n",
        "wandb.log({\"optimal policy path\": wandb.Video(optimal_policy_recorded_frames, fps=1)})\n",
        "\n",
        "# Finish wandb run\n",
        "wandb.finish()"
      ],
      "metadata": {
        "colab": {
          "base_uri": "https://localhost:8080/",
          "height": 153,
          "referenced_widgets": [
            "bf2e3dc7760c4c12b3d985e9d9957bda",
            "9cc29665bdf846d7b482428898cf7b58",
            "1c2744a0b8184f34a622e5f00a362266",
            "8d891e3e8565405892d8965137cece30",
            "27592dc2b9a84a70a3e3d06752e32cfa",
            "23991e4c4b3f4fc1bb99468229e7c707",
            "cbf38aac2f864c5aa5fdd219c598d038",
            "c74f920f9a52485dbdfd9fd2ff191bf5"
          ]
        },
        "id": "eAInPYUgX9y8",
        "outputId": "c71d325b-04b8-4af0-a525-71b89aecaea8"
      },
      "execution_count": 56,
      "outputs": [
        {
          "output_type": "display_data",
          "data": {
            "text/plain": [
              "<IPython.core.display.HTML object>"
            ],
            "text/html": [
              "Tracking run with wandb version 0.16.0"
            ]
          },
          "metadata": {}
        },
        {
          "output_type": "display_data",
          "data": {
            "text/plain": [
              "<IPython.core.display.HTML object>"
            ],
            "text/html": [
              "Run data is saved locally in <code>/content/wandb/run-20231129_144913-zd0ryr3b</code>"
            ]
          },
          "metadata": {}
        },
        {
          "output_type": "display_data",
          "data": {
            "text/plain": [
              "<IPython.core.display.HTML object>"
            ],
            "text/html": [
              "Syncing run <strong><a href='https://wandb.ai/cosmo3769/Q-Learning%20/runs/zd0ryr3b' target=\"_blank\">CliffWalking-v0</a></strong> to <a href='https://wandb.ai/cosmo3769/Q-Learning%20' target=\"_blank\">Weights & Biases</a> (<a href='https://wandb.me/run' target=\"_blank\">docs</a>)<br/>"
            ]
          },
          "metadata": {}
        },
        {
          "output_type": "display_data",
          "data": {
            "text/plain": [
              "<IPython.core.display.HTML object>"
            ],
            "text/html": [
              " View project at <a href='https://wandb.ai/cosmo3769/Q-Learning%20' target=\"_blank\">https://wandb.ai/cosmo3769/Q-Learning%20</a>"
            ]
          },
          "metadata": {}
        },
        {
          "output_type": "display_data",
          "data": {
            "text/plain": [
              "<IPython.core.display.HTML object>"
            ],
            "text/html": [
              " View run at <a href='https://wandb.ai/cosmo3769/Q-Learning%20/runs/zd0ryr3b' target=\"_blank\">https://wandb.ai/cosmo3769/Q-Learning%20/runs/zd0ryr3b</a>"
            ]
          },
          "metadata": {}
        },
        {
          "output_type": "display_data",
          "data": {
            "text/plain": [
              "VBox(children=(Label(value='27.619 MB of 27.619 MB uploaded\\r'), FloatProgress(value=1.0, max=1.0)))"
            ],
            "application/vnd.jupyter.widget-view+json": {
              "version_major": 2,
              "version_minor": 0,
              "model_id": "bf2e3dc7760c4c12b3d985e9d9957bda"
            }
          },
          "metadata": {}
        },
        {
          "output_type": "display_data",
          "data": {
            "text/plain": [
              "<IPython.core.display.HTML object>"
            ],
            "text/html": [
              " View run <strong style=\"color:#cdcd00\">CliffWalking-v0</strong> at: <a href='https://wandb.ai/cosmo3769/Q-Learning%20/runs/zd0ryr3b' target=\"_blank\">https://wandb.ai/cosmo3769/Q-Learning%20/runs/zd0ryr3b</a><br/>Synced 4 W&B file(s), 2 media file(s), 0 artifact file(s) and 0 other file(s)"
            ]
          },
          "metadata": {}
        },
        {
          "output_type": "display_data",
          "data": {
            "text/plain": [
              "<IPython.core.display.HTML object>"
            ],
            "text/html": [
              "Find logs at: <code>./wandb/run-20231129_144913-zd0ryr3b/logs</code>"
            ]
          },
          "metadata": {}
        }
      ]
    },
    {
      "cell_type": "code",
      "source": [],
      "metadata": {
        "id": "x3vlnWoFYoSK"
      },
      "execution_count": 20,
      "outputs": []
    }
  ]
}