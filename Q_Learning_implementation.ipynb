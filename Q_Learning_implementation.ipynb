{
  "nbformat": 4,
  "nbformat_minor": 0,
  "metadata": {
    "colab": {
      "provenance": [],
      "authorship_tag": "ABX9TyOHREHMOiIYWvqLjTXlK7F1",
      "include_colab_link": true
    },
    "kernelspec": {
      "name": "python3",
      "display_name": "Python 3"
    },
    "language_info": {
      "name": "python"
    },
    "widgets": {
      "application/vnd.jupyter.widget-state+json": {
        "3ed376ddacb9470aa629702c9539d96e": {
          "model_module": "@jupyter-widgets/controls",
          "model_name": "HBoxModel",
          "model_module_version": "1.5.0",
          "state": {
            "_dom_classes": [],
            "_model_module": "@jupyter-widgets/controls",
            "_model_module_version": "1.5.0",
            "_model_name": "HBoxModel",
            "_view_count": null,
            "_view_module": "@jupyter-widgets/controls",
            "_view_module_version": "1.5.0",
            "_view_name": "HBoxView",
            "box_style": "",
            "children": [
              "IPY_MODEL_dc5ac6e5f4854bc29cfe3e9b549624c6",
              "IPY_MODEL_12a664c6d7bb4072a2937ce341793abe",
              "IPY_MODEL_a50a2e0404344b8a80ddd1fd16387dfc"
            ],
            "layout": "IPY_MODEL_ed9f418470ca4e2b972534dd68664e03"
          }
        },
        "dc5ac6e5f4854bc29cfe3e9b549624c6": {
          "model_module": "@jupyter-widgets/controls",
          "model_name": "HTMLModel",
          "model_module_version": "1.5.0",
          "state": {
            "_dom_classes": [],
            "_model_module": "@jupyter-widgets/controls",
            "_model_module_version": "1.5.0",
            "_model_name": "HTMLModel",
            "_view_count": null,
            "_view_module": "@jupyter-widgets/controls",
            "_view_module_version": "1.5.0",
            "_view_name": "HTMLView",
            "description": "",
            "description_tooltip": null,
            "layout": "IPY_MODEL_2c85b0c194fc4b8aa4784a301fefab33",
            "placeholder": "​",
            "style": "IPY_MODEL_984ee1e4fc9a46b787f80d6a3474a370",
            "value": "100%"
          }
        },
        "12a664c6d7bb4072a2937ce341793abe": {
          "model_module": "@jupyter-widgets/controls",
          "model_name": "FloatProgressModel",
          "model_module_version": "1.5.0",
          "state": {
            "_dom_classes": [],
            "_model_module": "@jupyter-widgets/controls",
            "_model_module_version": "1.5.0",
            "_model_name": "FloatProgressModel",
            "_view_count": null,
            "_view_module": "@jupyter-widgets/controls",
            "_view_module_version": "1.5.0",
            "_view_name": "ProgressView",
            "bar_style": "success",
            "description": "",
            "description_tooltip": null,
            "layout": "IPY_MODEL_56455973edc841d3ab5b67fab4ddfe9c",
            "max": 100000,
            "min": 0,
            "orientation": "horizontal",
            "style": "IPY_MODEL_b38c52c80f984faa846fe1ddeb0f32dc",
            "value": 100000
          }
        },
        "a50a2e0404344b8a80ddd1fd16387dfc": {
          "model_module": "@jupyter-widgets/controls",
          "model_name": "HTMLModel",
          "model_module_version": "1.5.0",
          "state": {
            "_dom_classes": [],
            "_model_module": "@jupyter-widgets/controls",
            "_model_module_version": "1.5.0",
            "_model_name": "HTMLModel",
            "_view_count": null,
            "_view_module": "@jupyter-widgets/controls",
            "_view_module_version": "1.5.0",
            "_view_name": "HTMLView",
            "description": "",
            "description_tooltip": null,
            "layout": "IPY_MODEL_378778842054410aaf90031158ab79ff",
            "placeholder": "​",
            "style": "IPY_MODEL_9b39bf096a184458a06fdf6a2286daaa",
            "value": " 100000/100000 [02:00&lt;00:00, 1132.55it/s]"
          }
        },
        "ed9f418470ca4e2b972534dd68664e03": {
          "model_module": "@jupyter-widgets/base",
          "model_name": "LayoutModel",
          "model_module_version": "1.2.0",
          "state": {
            "_model_module": "@jupyter-widgets/base",
            "_model_module_version": "1.2.0",
            "_model_name": "LayoutModel",
            "_view_count": null,
            "_view_module": "@jupyter-widgets/base",
            "_view_module_version": "1.2.0",
            "_view_name": "LayoutView",
            "align_content": null,
            "align_items": null,
            "align_self": null,
            "border": null,
            "bottom": null,
            "display": null,
            "flex": null,
            "flex_flow": null,
            "grid_area": null,
            "grid_auto_columns": null,
            "grid_auto_flow": null,
            "grid_auto_rows": null,
            "grid_column": null,
            "grid_gap": null,
            "grid_row": null,
            "grid_template_areas": null,
            "grid_template_columns": null,
            "grid_template_rows": null,
            "height": null,
            "justify_content": null,
            "justify_items": null,
            "left": null,
            "margin": null,
            "max_height": null,
            "max_width": null,
            "min_height": null,
            "min_width": null,
            "object_fit": null,
            "object_position": null,
            "order": null,
            "overflow": null,
            "overflow_x": null,
            "overflow_y": null,
            "padding": null,
            "right": null,
            "top": null,
            "visibility": null,
            "width": null
          }
        },
        "2c85b0c194fc4b8aa4784a301fefab33": {
          "model_module": "@jupyter-widgets/base",
          "model_name": "LayoutModel",
          "model_module_version": "1.2.0",
          "state": {
            "_model_module": "@jupyter-widgets/base",
            "_model_module_version": "1.2.0",
            "_model_name": "LayoutModel",
            "_view_count": null,
            "_view_module": "@jupyter-widgets/base",
            "_view_module_version": "1.2.0",
            "_view_name": "LayoutView",
            "align_content": null,
            "align_items": null,
            "align_self": null,
            "border": null,
            "bottom": null,
            "display": null,
            "flex": null,
            "flex_flow": null,
            "grid_area": null,
            "grid_auto_columns": null,
            "grid_auto_flow": null,
            "grid_auto_rows": null,
            "grid_column": null,
            "grid_gap": null,
            "grid_row": null,
            "grid_template_areas": null,
            "grid_template_columns": null,
            "grid_template_rows": null,
            "height": null,
            "justify_content": null,
            "justify_items": null,
            "left": null,
            "margin": null,
            "max_height": null,
            "max_width": null,
            "min_height": null,
            "min_width": null,
            "object_fit": null,
            "object_position": null,
            "order": null,
            "overflow": null,
            "overflow_x": null,
            "overflow_y": null,
            "padding": null,
            "right": null,
            "top": null,
            "visibility": null,
            "width": null
          }
        },
        "984ee1e4fc9a46b787f80d6a3474a370": {
          "model_module": "@jupyter-widgets/controls",
          "model_name": "DescriptionStyleModel",
          "model_module_version": "1.5.0",
          "state": {
            "_model_module": "@jupyter-widgets/controls",
            "_model_module_version": "1.5.0",
            "_model_name": "DescriptionStyleModel",
            "_view_count": null,
            "_view_module": "@jupyter-widgets/base",
            "_view_module_version": "1.2.0",
            "_view_name": "StyleView",
            "description_width": ""
          }
        },
        "56455973edc841d3ab5b67fab4ddfe9c": {
          "model_module": "@jupyter-widgets/base",
          "model_name": "LayoutModel",
          "model_module_version": "1.2.0",
          "state": {
            "_model_module": "@jupyter-widgets/base",
            "_model_module_version": "1.2.0",
            "_model_name": "LayoutModel",
            "_view_count": null,
            "_view_module": "@jupyter-widgets/base",
            "_view_module_version": "1.2.0",
            "_view_name": "LayoutView",
            "align_content": null,
            "align_items": null,
            "align_self": null,
            "border": null,
            "bottom": null,
            "display": null,
            "flex": null,
            "flex_flow": null,
            "grid_area": null,
            "grid_auto_columns": null,
            "grid_auto_flow": null,
            "grid_auto_rows": null,
            "grid_column": null,
            "grid_gap": null,
            "grid_row": null,
            "grid_template_areas": null,
            "grid_template_columns": null,
            "grid_template_rows": null,
            "height": null,
            "justify_content": null,
            "justify_items": null,
            "left": null,
            "margin": null,
            "max_height": null,
            "max_width": null,
            "min_height": null,
            "min_width": null,
            "object_fit": null,
            "object_position": null,
            "order": null,
            "overflow": null,
            "overflow_x": null,
            "overflow_y": null,
            "padding": null,
            "right": null,
            "top": null,
            "visibility": null,
            "width": null
          }
        },
        "b38c52c80f984faa846fe1ddeb0f32dc": {
          "model_module": "@jupyter-widgets/controls",
          "model_name": "ProgressStyleModel",
          "model_module_version": "1.5.0",
          "state": {
            "_model_module": "@jupyter-widgets/controls",
            "_model_module_version": "1.5.0",
            "_model_name": "ProgressStyleModel",
            "_view_count": null,
            "_view_module": "@jupyter-widgets/base",
            "_view_module_version": "1.2.0",
            "_view_name": "StyleView",
            "bar_color": null,
            "description_width": ""
          }
        },
        "378778842054410aaf90031158ab79ff": {
          "model_module": "@jupyter-widgets/base",
          "model_name": "LayoutModel",
          "model_module_version": "1.2.0",
          "state": {
            "_model_module": "@jupyter-widgets/base",
            "_model_module_version": "1.2.0",
            "_model_name": "LayoutModel",
            "_view_count": null,
            "_view_module": "@jupyter-widgets/base",
            "_view_module_version": "1.2.0",
            "_view_name": "LayoutView",
            "align_content": null,
            "align_items": null,
            "align_self": null,
            "border": null,
            "bottom": null,
            "display": null,
            "flex": null,
            "flex_flow": null,
            "grid_area": null,
            "grid_auto_columns": null,
            "grid_auto_flow": null,
            "grid_auto_rows": null,
            "grid_column": null,
            "grid_gap": null,
            "grid_row": null,
            "grid_template_areas": null,
            "grid_template_columns": null,
            "grid_template_rows": null,
            "height": null,
            "justify_content": null,
            "justify_items": null,
            "left": null,
            "margin": null,
            "max_height": null,
            "max_width": null,
            "min_height": null,
            "min_width": null,
            "object_fit": null,
            "object_position": null,
            "order": null,
            "overflow": null,
            "overflow_x": null,
            "overflow_y": null,
            "padding": null,
            "right": null,
            "top": null,
            "visibility": null,
            "width": null
          }
        },
        "9b39bf096a184458a06fdf6a2286daaa": {
          "model_module": "@jupyter-widgets/controls",
          "model_name": "DescriptionStyleModel",
          "model_module_version": "1.5.0",
          "state": {
            "_model_module": "@jupyter-widgets/controls",
            "_model_module_version": "1.5.0",
            "_model_name": "DescriptionStyleModel",
            "_view_count": null,
            "_view_module": "@jupyter-widgets/base",
            "_view_module_version": "1.2.0",
            "_view_name": "StyleView",
            "description_width": ""
          }
        },
        "16c30db3f5ae46de8bce14fbf9848197": {
          "model_module": "@jupyter-widgets/controls",
          "model_name": "HBoxModel",
          "model_module_version": "1.5.0",
          "state": {
            "_dom_classes": [],
            "_model_module": "@jupyter-widgets/controls",
            "_model_module_version": "1.5.0",
            "_model_name": "HBoxModel",
            "_view_count": null,
            "_view_module": "@jupyter-widgets/controls",
            "_view_module_version": "1.5.0",
            "_view_name": "HBoxView",
            "box_style": "",
            "children": [
              "IPY_MODEL_0346ee39f57f45929110dc1324116bff",
              "IPY_MODEL_5d18c5e25c4b4f0db810cb85a17eaeb3",
              "IPY_MODEL_7a3794d1ffa5432eaa1938bdc9e18545"
            ],
            "layout": "IPY_MODEL_9d680f85f787484382b83fc7717c3c05"
          }
        },
        "0346ee39f57f45929110dc1324116bff": {
          "model_module": "@jupyter-widgets/controls",
          "model_name": "HTMLModel",
          "model_module_version": "1.5.0",
          "state": {
            "_dom_classes": [],
            "_model_module": "@jupyter-widgets/controls",
            "_model_module_version": "1.5.0",
            "_model_name": "HTMLModel",
            "_view_count": null,
            "_view_module": "@jupyter-widgets/controls",
            "_view_module_version": "1.5.0",
            "_view_name": "HTMLView",
            "description": "",
            "description_tooltip": null,
            "layout": "IPY_MODEL_3622db07b69543678aa1f2b54fa8d4bf",
            "placeholder": "​",
            "style": "IPY_MODEL_3ba38132a0c04ef2a395446d76cc1a9f",
            "value": "100%"
          }
        },
        "5d18c5e25c4b4f0db810cb85a17eaeb3": {
          "model_module": "@jupyter-widgets/controls",
          "model_name": "FloatProgressModel",
          "model_module_version": "1.5.0",
          "state": {
            "_dom_classes": [],
            "_model_module": "@jupyter-widgets/controls",
            "_model_module_version": "1.5.0",
            "_model_name": "FloatProgressModel",
            "_view_count": null,
            "_view_module": "@jupyter-widgets/controls",
            "_view_module_version": "1.5.0",
            "_view_name": "ProgressView",
            "bar_style": "success",
            "description": "",
            "description_tooltip": null,
            "layout": "IPY_MODEL_a1b0527ccc4b48f483e8124441c1675b",
            "max": 100,
            "min": 0,
            "orientation": "horizontal",
            "style": "IPY_MODEL_ce01884f426d487db9e51f844f93506b",
            "value": 100
          }
        },
        "7a3794d1ffa5432eaa1938bdc9e18545": {
          "model_module": "@jupyter-widgets/controls",
          "model_name": "HTMLModel",
          "model_module_version": "1.5.0",
          "state": {
            "_dom_classes": [],
            "_model_module": "@jupyter-widgets/controls",
            "_model_module_version": "1.5.0",
            "_model_name": "HTMLModel",
            "_view_count": null,
            "_view_module": "@jupyter-widgets/controls",
            "_view_module_version": "1.5.0",
            "_view_name": "HTMLView",
            "description": "",
            "description_tooltip": null,
            "layout": "IPY_MODEL_b4e089a2b8ca48d182e4019b88d3ca7f",
            "placeholder": "​",
            "style": "IPY_MODEL_4f9b5d7cf1134b81aa632307238b1532",
            "value": " 100/100 [00:00&lt;00:00, 655.63it/s]"
          }
        },
        "9d680f85f787484382b83fc7717c3c05": {
          "model_module": "@jupyter-widgets/base",
          "model_name": "LayoutModel",
          "model_module_version": "1.2.0",
          "state": {
            "_model_module": "@jupyter-widgets/base",
            "_model_module_version": "1.2.0",
            "_model_name": "LayoutModel",
            "_view_count": null,
            "_view_module": "@jupyter-widgets/base",
            "_view_module_version": "1.2.0",
            "_view_name": "LayoutView",
            "align_content": null,
            "align_items": null,
            "align_self": null,
            "border": null,
            "bottom": null,
            "display": null,
            "flex": null,
            "flex_flow": null,
            "grid_area": null,
            "grid_auto_columns": null,
            "grid_auto_flow": null,
            "grid_auto_rows": null,
            "grid_column": null,
            "grid_gap": null,
            "grid_row": null,
            "grid_template_areas": null,
            "grid_template_columns": null,
            "grid_template_rows": null,
            "height": null,
            "justify_content": null,
            "justify_items": null,
            "left": null,
            "margin": null,
            "max_height": null,
            "max_width": null,
            "min_height": null,
            "min_width": null,
            "object_fit": null,
            "object_position": null,
            "order": null,
            "overflow": null,
            "overflow_x": null,
            "overflow_y": null,
            "padding": null,
            "right": null,
            "top": null,
            "visibility": null,
            "width": null
          }
        },
        "3622db07b69543678aa1f2b54fa8d4bf": {
          "model_module": "@jupyter-widgets/base",
          "model_name": "LayoutModel",
          "model_module_version": "1.2.0",
          "state": {
            "_model_module": "@jupyter-widgets/base",
            "_model_module_version": "1.2.0",
            "_model_name": "LayoutModel",
            "_view_count": null,
            "_view_module": "@jupyter-widgets/base",
            "_view_module_version": "1.2.0",
            "_view_name": "LayoutView",
            "align_content": null,
            "align_items": null,
            "align_self": null,
            "border": null,
            "bottom": null,
            "display": null,
            "flex": null,
            "flex_flow": null,
            "grid_area": null,
            "grid_auto_columns": null,
            "grid_auto_flow": null,
            "grid_auto_rows": null,
            "grid_column": null,
            "grid_gap": null,
            "grid_row": null,
            "grid_template_areas": null,
            "grid_template_columns": null,
            "grid_template_rows": null,
            "height": null,
            "justify_content": null,
            "justify_items": null,
            "left": null,
            "margin": null,
            "max_height": null,
            "max_width": null,
            "min_height": null,
            "min_width": null,
            "object_fit": null,
            "object_position": null,
            "order": null,
            "overflow": null,
            "overflow_x": null,
            "overflow_y": null,
            "padding": null,
            "right": null,
            "top": null,
            "visibility": null,
            "width": null
          }
        },
        "3ba38132a0c04ef2a395446d76cc1a9f": {
          "model_module": "@jupyter-widgets/controls",
          "model_name": "DescriptionStyleModel",
          "model_module_version": "1.5.0",
          "state": {
            "_model_module": "@jupyter-widgets/controls",
            "_model_module_version": "1.5.0",
            "_model_name": "DescriptionStyleModel",
            "_view_count": null,
            "_view_module": "@jupyter-widgets/base",
            "_view_module_version": "1.2.0",
            "_view_name": "StyleView",
            "description_width": ""
          }
        },
        "a1b0527ccc4b48f483e8124441c1675b": {
          "model_module": "@jupyter-widgets/base",
          "model_name": "LayoutModel",
          "model_module_version": "1.2.0",
          "state": {
            "_model_module": "@jupyter-widgets/base",
            "_model_module_version": "1.2.0",
            "_model_name": "LayoutModel",
            "_view_count": null,
            "_view_module": "@jupyter-widgets/base",
            "_view_module_version": "1.2.0",
            "_view_name": "LayoutView",
            "align_content": null,
            "align_items": null,
            "align_self": null,
            "border": null,
            "bottom": null,
            "display": null,
            "flex": null,
            "flex_flow": null,
            "grid_area": null,
            "grid_auto_columns": null,
            "grid_auto_flow": null,
            "grid_auto_rows": null,
            "grid_column": null,
            "grid_gap": null,
            "grid_row": null,
            "grid_template_areas": null,
            "grid_template_columns": null,
            "grid_template_rows": null,
            "height": null,
            "justify_content": null,
            "justify_items": null,
            "left": null,
            "margin": null,
            "max_height": null,
            "max_width": null,
            "min_height": null,
            "min_width": null,
            "object_fit": null,
            "object_position": null,
            "order": null,
            "overflow": null,
            "overflow_x": null,
            "overflow_y": null,
            "padding": null,
            "right": null,
            "top": null,
            "visibility": null,
            "width": null
          }
        },
        "ce01884f426d487db9e51f844f93506b": {
          "model_module": "@jupyter-widgets/controls",
          "model_name": "ProgressStyleModel",
          "model_module_version": "1.5.0",
          "state": {
            "_model_module": "@jupyter-widgets/controls",
            "_model_module_version": "1.5.0",
            "_model_name": "ProgressStyleModel",
            "_view_count": null,
            "_view_module": "@jupyter-widgets/base",
            "_view_module_version": "1.2.0",
            "_view_name": "StyleView",
            "bar_color": null,
            "description_width": ""
          }
        },
        "b4e089a2b8ca48d182e4019b88d3ca7f": {
          "model_module": "@jupyter-widgets/base",
          "model_name": "LayoutModel",
          "model_module_version": "1.2.0",
          "state": {
            "_model_module": "@jupyter-widgets/base",
            "_model_module_version": "1.2.0",
            "_model_name": "LayoutModel",
            "_view_count": null,
            "_view_module": "@jupyter-widgets/base",
            "_view_module_version": "1.2.0",
            "_view_name": "LayoutView",
            "align_content": null,
            "align_items": null,
            "align_self": null,
            "border": null,
            "bottom": null,
            "display": null,
            "flex": null,
            "flex_flow": null,
            "grid_area": null,
            "grid_auto_columns": null,
            "grid_auto_flow": null,
            "grid_auto_rows": null,
            "grid_column": null,
            "grid_gap": null,
            "grid_row": null,
            "grid_template_areas": null,
            "grid_template_columns": null,
            "grid_template_rows": null,
            "height": null,
            "justify_content": null,
            "justify_items": null,
            "left": null,
            "margin": null,
            "max_height": null,
            "max_width": null,
            "min_height": null,
            "min_width": null,
            "object_fit": null,
            "object_position": null,
            "order": null,
            "overflow": null,
            "overflow_x": null,
            "overflow_y": null,
            "padding": null,
            "right": null,
            "top": null,
            "visibility": null,
            "width": null
          }
        },
        "4f9b5d7cf1134b81aa632307238b1532": {
          "model_module": "@jupyter-widgets/controls",
          "model_name": "DescriptionStyleModel",
          "model_module_version": "1.5.0",
          "state": {
            "_model_module": "@jupyter-widgets/controls",
            "_model_module_version": "1.5.0",
            "_model_name": "DescriptionStyleModel",
            "_view_count": null,
            "_view_module": "@jupyter-widgets/base",
            "_view_module_version": "1.2.0",
            "_view_name": "StyleView",
            "description_width": ""
          }
        }
      }
    }
  },
  "cells": [
    {
      "cell_type": "markdown",
      "metadata": {
        "id": "view-in-github",
        "colab_type": "text"
      },
      "source": [
        "<a href=\"https://colab.research.google.com/github/cosmo3769/reinforcement_learning/blob/master/Q_Learning_implementation.ipynb\" target=\"_parent\"><img src=\"https://colab.research.google.com/assets/colab-badge.svg\" alt=\"Open In Colab\"/></a>"
      ]
    },
    {
      "cell_type": "markdown",
      "source": [
        "# Setup and Imports"
      ],
      "metadata": {
        "id": "gwlGD48IQR5_"
      }
    },
    {
      "cell_type": "code",
      "source": [
        "# Check if the notebook is running on colab or not.\n",
        "try:\n",
        "    import google.colab\n",
        "    COLAB = True\n",
        "except:\n",
        "    COLAB = False\n",
        "print(f'Is the notebook using colab environment: {COLAB}')\n",
        "\n",
        "if COLAB:\n",
        "    # Install W&B for MLOPs.\n",
        "    print(f'Installing Weights and Biases')\n",
        "    !pip install -qq --upgrade wandb\n",
        "    # Install gymnasium\n",
        "    print(f'Installing gymnasium')\n",
        "    !pip install -qq gymnasium"
      ],
      "metadata": {
        "colab": {
          "base_uri": "https://localhost:8080/"
        },
        "id": "P8bY86aKQU8P",
        "outputId": "c09e7bf7-8e3d-4946-81c3-aad02f23d006"
      },
      "execution_count": 1,
      "outputs": [
        {
          "output_type": "stream",
          "name": "stdout",
          "text": [
            "Is the notebook using colab environment: True\n",
            "Installing Weights and Biases\n",
            "\u001b[2K     \u001b[90m━━━━━━━━━━━━━━━━━━━━━━━━━━━━━━━━━━━━━━━━\u001b[0m \u001b[32m2.1/2.1 MB\u001b[0m \u001b[31m24.8 MB/s\u001b[0m eta \u001b[36m0:00:00\u001b[0m\n",
            "\u001b[2K     \u001b[90m━━━━━━━━━━━━━━━━━━━━━━━━━━━━━━━━━━━━━━━━\u001b[0m \u001b[32m190.6/190.6 kB\u001b[0m \u001b[31m17.8 MB/s\u001b[0m eta \u001b[36m0:00:00\u001b[0m\n",
            "\u001b[2K     \u001b[90m━━━━━━━━━━━━━━━━━━━━━━━━━━━━━━━━━━━━━━━━\u001b[0m \u001b[32m251.7/251.7 kB\u001b[0m \u001b[31m27.6 MB/s\u001b[0m eta \u001b[36m0:00:00\u001b[0m\n",
            "\u001b[2K     \u001b[90m━━━━━━━━━━━━━━━━━━━━━━━━━━━━━━━━━━━━━━━━\u001b[0m \u001b[32m62.7/62.7 kB\u001b[0m \u001b[31m9.1 MB/s\u001b[0m eta \u001b[36m0:00:00\u001b[0m\n",
            "\u001b[?25hInstalling gymnasium\n",
            "\u001b[2K     \u001b[90m━━━━━━━━━━━━━━━━━━━━━━━━━━━━━━━━━━━━━━━━\u001b[0m \u001b[32m953.9/953.9 kB\u001b[0m \u001b[31m4.9 MB/s\u001b[0m eta \u001b[36m0:00:00\u001b[0m\n",
            "\u001b[?25h"
          ]
        }
      ]
    },
    {
      "cell_type": "code",
      "source": [
        "# Login to your W&B account.\n",
        "import wandb\n",
        "wandb.login()"
      ],
      "metadata": {
        "id": "kK-6ZUrWQrzL"
      },
      "execution_count": null,
      "outputs": []
    },
    {
      "cell_type": "code",
      "execution_count": 2,
      "metadata": {
        "id": "qvz62-R9IlZp"
      },
      "outputs": [],
      "source": [
        "import os\n",
        "import tqdm\n",
        "import random\n",
        "import imageio\n",
        "import numpy as np\n",
        "import gymnasium as gym\n",
        "import matplotlib.pyplot as plt\n",
        "\n",
        "from argparse import Namespace\n",
        "from tqdm.notebook import tqdm"
      ]
    },
    {
      "cell_type": "markdown",
      "source": [
        "# Initializing env"
      ],
      "metadata": {
        "id": "5bJMifwMya2f"
      }
    },
    {
      "cell_type": "code",
      "source": [
        "env = gym.make('CliffWalking-v0', render_mode=\"rgb_array\")"
      ],
      "metadata": {
        "id": "nFUS4cDmVml1"
      },
      "execution_count": 3,
      "outputs": []
    },
    {
      "cell_type": "markdown",
      "source": [
        "# Observation Space"
      ],
      "metadata": {
        "id": "h1fvT1LhysUi"
      }
    },
    {
      "cell_type": "code",
      "source": [
        "print(\"------OBSERVATION SPACE------ \\n\")\n",
        "print(\"Observation Space =\", env.observation_space)\n",
        "print(\"Sample observation =\", env.observation_space.sample()) # Get a random observation"
      ],
      "metadata": {
        "colab": {
          "base_uri": "https://localhost:8080/"
        },
        "id": "plAGXx06z6R_",
        "outputId": "d4c36627-522d-4701-88b4-e13b1f691db9"
      },
      "execution_count": 4,
      "outputs": [
        {
          "output_type": "stream",
          "name": "stdout",
          "text": [
            "------OBSERVATION SPACE------ \n",
            "\n",
            "Observation Space = Discrete(48)\n",
            "Sample observation = 0\n"
          ]
        }
      ]
    },
    {
      "cell_type": "markdown",
      "source": [
        "# Action Space"
      ],
      "metadata": {
        "id": "XF_TGiZtyxVG"
      }
    },
    {
      "cell_type": "code",
      "source": [
        "print(\"------ACTION SPACE------ \\n\")\n",
        "print(\"Action Space =\", env.action_space.n)\n",
        "print(\"Sample action =\", env.action_space.sample()) # Take a random action"
      ],
      "metadata": {
        "colab": {
          "base_uri": "https://localhost:8080/"
        },
        "id": "6NDFyLvU0mer",
        "outputId": "b053511d-759a-4301-98d9-84dbc6b03fcd"
      },
      "execution_count": 5,
      "outputs": [
        {
          "output_type": "stream",
          "name": "stdout",
          "text": [
            "------ACTION SPACE------ \n",
            "\n",
            "Action Space = 4\n",
            "Sample action = 1\n"
          ]
        }
      ]
    },
    {
      "cell_type": "markdown",
      "source": [
        "# Observing the environment"
      ],
      "metadata": {
        "id": "2yGW_0YuydvV"
      }
    },
    {
      "cell_type": "code",
      "source": [
        "state, info = env.reset()"
      ],
      "metadata": {
        "id": "dpq0fIxswf10"
      },
      "execution_count": 6,
      "outputs": []
    },
    {
      "cell_type": "code",
      "source": [
        "state"
      ],
      "metadata": {
        "colab": {
          "base_uri": "https://localhost:8080/"
        },
        "id": "U43EU11nw74l",
        "outputId": "dc813b42-d1f8-42dc-9675-1af64dfce440"
      },
      "execution_count": 7,
      "outputs": [
        {
          "output_type": "execute_result",
          "data": {
            "text/plain": [
              "36"
            ]
          },
          "metadata": {},
          "execution_count": 7
        }
      ]
    },
    {
      "cell_type": "code",
      "source": [
        "info"
      ],
      "metadata": {
        "colab": {
          "base_uri": "https://localhost:8080/"
        },
        "id": "t2V6N_34w9At",
        "outputId": "af693af6-a654-456b-a500-639dfa1a46f2"
      },
      "execution_count": 8,
      "outputs": [
        {
          "output_type": "execute_result",
          "data": {
            "text/plain": [
              "{'prob': 1}"
            ]
          },
          "metadata": {},
          "execution_count": 8
        }
      ]
    },
    {
      "cell_type": "markdown",
      "source": [
        "# Executing an action"
      ],
      "metadata": {
        "id": "6nuW0oe0K-ZK"
      }
    },
    {
      "cell_type": "code",
      "source": [
        "action = env.action_space.sample()\n",
        "print(\"Action taken =\", action)\n",
        "\n",
        "state, info = env.reset()\n",
        "print(\"Initial State =\", state)\n",
        "\n",
        "new_state, reward, terminated, truncated, info = env.step(action)\n",
        "print(\"State reached after taking an action =\", new_state)\n",
        "print(\"Reward recieved after taking an action =\", reward)\n",
        "print(\"terminated =\", terminated)\n",
        "print(\"truncated =\", truncated)\n",
        "print(\"info =\", info)"
      ],
      "metadata": {
        "colab": {
          "base_uri": "https://localhost:8080/"
        },
        "id": "7VRW3PhqLA54",
        "outputId": "d17f8d3c-ceda-43a3-f065-b5f7cd495331"
      },
      "execution_count": 9,
      "outputs": [
        {
          "output_type": "stream",
          "name": "stdout",
          "text": [
            "Action taken = 0\n",
            "Initial State = 36\n",
            "State reached after taking an action = 24\n",
            "Reward recieved after taking an action = -1\n",
            "terminated = False\n",
            "truncated = False\n",
            "info = {'prob': 1.0}\n"
          ]
        }
      ]
    },
    {
      "cell_type": "markdown",
      "source": [
        "# Initializing Q-table"
      ],
      "metadata": {
        "id": "_Zo6GJ_G0G6c"
      }
    },
    {
      "cell_type": "code",
      "source": [
        "state_space = env.observation_space.n\n",
        "print(\"There are\", state_space, \"possible states\")\n",
        "\n",
        "action_space = env.action_space.n\n",
        "print(\"There are\", action_space, \"possible actions\")"
      ],
      "metadata": {
        "colab": {
          "base_uri": "https://localhost:8080/"
        },
        "id": "kvv0y5ZKodoY",
        "outputId": "47a41ff9-7607-48dc-e450-c33698834842"
      },
      "execution_count": 10,
      "outputs": [
        {
          "output_type": "stream",
          "name": "stdout",
          "text": [
            "There are 48 possible states\n",
            "There are 4 possible actions\n"
          ]
        }
      ]
    },
    {
      "cell_type": "code",
      "source": [
        "# Let's create our Qtable of size (state_space, action_space) and initialized each values at 0 using np.zeros\n",
        "def initialize_q_table(state_space, action_space):\n",
        "    Qtable = np.zeros((state_space, action_space))\n",
        "    return Qtable"
      ],
      "metadata": {
        "id": "gepekQFMonMg"
      },
      "execution_count": 11,
      "outputs": []
    },
    {
      "cell_type": "code",
      "source": [
        "Qtable_cliffwalking = initialize_q_table(state_space, action_space)"
      ],
      "metadata": {
        "id": "kHJE0bQcoteV"
      },
      "execution_count": 12,
      "outputs": []
    },
    {
      "cell_type": "code",
      "source": [
        "Qtable_cliffwalking"
      ],
      "metadata": {
        "colab": {
          "base_uri": "https://localhost:8080/"
        },
        "id": "P5w-5Rxko0Ol",
        "outputId": "5c4fd15d-0059-4241-b513-beb2d1cb7da7"
      },
      "execution_count": 13,
      "outputs": [
        {
          "output_type": "execute_result",
          "data": {
            "text/plain": [
              "array([[0., 0., 0., 0.],\n",
              "       [0., 0., 0., 0.],\n",
              "       [0., 0., 0., 0.],\n",
              "       [0., 0., 0., 0.],\n",
              "       [0., 0., 0., 0.],\n",
              "       [0., 0., 0., 0.],\n",
              "       [0., 0., 0., 0.],\n",
              "       [0., 0., 0., 0.],\n",
              "       [0., 0., 0., 0.],\n",
              "       [0., 0., 0., 0.],\n",
              "       [0., 0., 0., 0.],\n",
              "       [0., 0., 0., 0.],\n",
              "       [0., 0., 0., 0.],\n",
              "       [0., 0., 0., 0.],\n",
              "       [0., 0., 0., 0.],\n",
              "       [0., 0., 0., 0.],\n",
              "       [0., 0., 0., 0.],\n",
              "       [0., 0., 0., 0.],\n",
              "       [0., 0., 0., 0.],\n",
              "       [0., 0., 0., 0.],\n",
              "       [0., 0., 0., 0.],\n",
              "       [0., 0., 0., 0.],\n",
              "       [0., 0., 0., 0.],\n",
              "       [0., 0., 0., 0.],\n",
              "       [0., 0., 0., 0.],\n",
              "       [0., 0., 0., 0.],\n",
              "       [0., 0., 0., 0.],\n",
              "       [0., 0., 0., 0.],\n",
              "       [0., 0., 0., 0.],\n",
              "       [0., 0., 0., 0.],\n",
              "       [0., 0., 0., 0.],\n",
              "       [0., 0., 0., 0.],\n",
              "       [0., 0., 0., 0.],\n",
              "       [0., 0., 0., 0.],\n",
              "       [0., 0., 0., 0.],\n",
              "       [0., 0., 0., 0.],\n",
              "       [0., 0., 0., 0.],\n",
              "       [0., 0., 0., 0.],\n",
              "       [0., 0., 0., 0.],\n",
              "       [0., 0., 0., 0.],\n",
              "       [0., 0., 0., 0.],\n",
              "       [0., 0., 0., 0.],\n",
              "       [0., 0., 0., 0.],\n",
              "       [0., 0., 0., 0.],\n",
              "       [0., 0., 0., 0.],\n",
              "       [0., 0., 0., 0.],\n",
              "       [0., 0., 0., 0.],\n",
              "       [0., 0., 0., 0.]])"
            ]
          },
          "metadata": {},
          "execution_count": 13
        }
      ]
    },
    {
      "cell_type": "markdown",
      "source": [
        "# Build the agent"
      ],
      "metadata": {
        "id": "pnERfK-6Yjx_"
      }
    },
    {
      "cell_type": "code",
      "source": [
        "class CliffwalkingAgent:\n",
        "    def __init__(self, args):\n",
        "        self.args = args\n",
        "\n",
        "    def get_action(\n",
        "        self,\n",
        "        Qtable,\n",
        "        state,\n",
        "        epsilon\n",
        "    ):\n",
        "        if np.random.random() > epsilon:\n",
        "            return np.argmax(Qtable[state][:])\n",
        "        else:\n",
        "            return env.action_space.sample()\n",
        "\n",
        "    def update(\n",
        "        self,\n",
        "        Qtable,\n",
        "        state,\n",
        "        new_state,\n",
        "        action\n",
        "    ):\n",
        "        return Qtable[state][action] + self.args.learning_rate * (reward + self.args.discount_factor * np.max(Qtable[new_state]) - Qtable[state][action])\n",
        "\n",
        "    def decay_epsilon(\n",
        "        self,\n",
        "        episode\n",
        "    ):\n",
        "        return self.args.min_epsilon + (self.args.max_epsilon - self.args.min_epsilon)*np.exp(-self.args.decay_rate*episode)"
      ],
      "metadata": {
        "id": "GkYA1S6zYnEh"
      },
      "execution_count": 14,
      "outputs": []
    },
    {
      "cell_type": "code",
      "source": [
        "class CliffwalkingAgent:\n",
        "    def __init__(self, args):\n",
        "        self.args = args\n",
        "        self.training_error = []\n",
        "\n",
        "    def get_action(\n",
        "        self,\n",
        "        Qtable,\n",
        "        state,\n",
        "        epsilon\n",
        "    ):\n",
        "        if np.random.random() > epsilon:\n",
        "            return np.argmax(Qtable[state][:])\n",
        "        else:\n",
        "            return env.action_space.sample()\n",
        "\n",
        "    def update(\n",
        "        self,\n",
        "        Qtable,\n",
        "        state,\n",
        "        new_state,\n",
        "        action\n",
        "    ):\n",
        "        td_target = reward + self.args.discount_factor * np.max(Qtable[new_state])\n",
        "        td_error = td_target - Qtable[state][action]\n",
        "        self.training_error.append(td_error)\n",
        "        return Qtable[state][action] + self.args.learning_rate * td_error\n",
        "\n",
        "    def decay_epsilon(\n",
        "        self,\n",
        "        episode\n",
        "    ):\n",
        "        exp_decay = np.exp(-self.args.decay_rate * episode)\n",
        "        return self.args.min_epsilon + (self.args.max_epsilon - self.args.min_epsilon) * exp_decay"
      ],
      "metadata": {
        "id": "aJety-vRxRdN"
      },
      "execution_count": 14,
      "outputs": []
    },
    {
      "cell_type": "markdown",
      "source": [
        "# Hyperparameters"
      ],
      "metadata": {
        "id": "ce0r9tPq0Pmv"
      }
    },
    {
      "cell_type": "code",
      "source": [
        "configs = Namespace(\n",
        "    # Training parameters\n",
        "    n_training_episodes = 100000,  # Total training episodes\n",
        "    learning_rate = 0.7,          # Learning rate\n",
        "\n",
        "    # Evaluation parameters\n",
        "    n_eval_episodes = 100,        # Total number of test episodes\n",
        "\n",
        "    # Environment parameters\n",
        "    env_id = \"CliffWalking-v0\",     # Name of the environment\n",
        "    max_steps = 99,               # Max steps per episode\n",
        "    discount_factor = 0.95,                 # Discounting rate\n",
        "    eval_seed = [],               # The evaluation seed of the environment\n",
        "\n",
        "    # Exploration parameters\n",
        "    max_epsilon = 1.0,             # Exploration probability at start\n",
        "    min_epsilon = 0.05,            # Minimum exploration probability\n",
        "    decay_rate = 0.0005,            # Exponential decay rate for exploration prob\n",
        ")"
      ],
      "metadata": {
        "id": "IjgycZS6poYM"
      },
      "execution_count": 15,
      "outputs": []
    },
    {
      "cell_type": "markdown",
      "source": [
        "# Training Loop"
      ],
      "metadata": {
        "id": "N55OfFEI0RUV"
      }
    },
    {
      "cell_type": "code",
      "source": [
        "agent = CliffwalkingAgent(configs)"
      ],
      "metadata": {
        "id": "oNVErhQFzBCs"
      },
      "execution_count": 16,
      "outputs": []
    },
    {
      "cell_type": "code",
      "source": [
        "env = gym.wrappers.RecordEpisodeStatistics(env, deque_size=configs.n_training_episodes)\n",
        "\n",
        "def train(n_training_episodes, max_steps, Qtable):\n",
        "    for episode in tqdm(range(n_training_episodes)):\n",
        "        # Reduce epsilon (because we need less and less exploration)\n",
        "        epsilon = agent.decay_epsilon(episode)\n",
        "        # Reset the environment\n",
        "        state, info = env.reset()\n",
        "        step = 0\n",
        "        terminated = False\n",
        "        truncated = False\n",
        "\n",
        "        # repeat\n",
        "        for step in range(max_steps):\n",
        "            # Choose the action At using epsilon greedy policy\n",
        "            action = agent.get_action(Qtable, state, epsilon)\n",
        "\n",
        "            # Take action At and observe Rt+1 and St+1\n",
        "            # Take the action (a) and observe the outcome state(s') and reward (r)\n",
        "            new_state, reward, terminated, truncated, info = env.step(action)\n",
        "\n",
        "            # Update Q(s,a):= Q(s,a) + lr [R(s,a) + gamma * max Q(s',a') - Q(s,a)]\n",
        "            Qtable[state][action] = agent.update(Qtable, state, new_state, action)\n",
        "\n",
        "            # If terminated or truncated finish the episode\n",
        "            if terminated or truncated:\n",
        "                break\n",
        "\n",
        "            # Our next state is the new state\n",
        "            state = new_state\n",
        "\n",
        "    return Qtable"
      ],
      "metadata": {
        "id": "5Cj5H9MYhGgD"
      },
      "execution_count": 17,
      "outputs": []
    },
    {
      "cell_type": "code",
      "source": [
        "Qtable_cliffwalking = train(configs.n_training_episodes, configs.max_steps, Qtable_cliffwalking)"
      ],
      "metadata": {
        "colab": {
          "base_uri": "https://localhost:8080/",
          "height": 49,
          "referenced_widgets": [
            "3ed376ddacb9470aa629702c9539d96e",
            "dc5ac6e5f4854bc29cfe3e9b549624c6",
            "12a664c6d7bb4072a2937ce341793abe",
            "a50a2e0404344b8a80ddd1fd16387dfc",
            "ed9f418470ca4e2b972534dd68664e03",
            "2c85b0c194fc4b8aa4784a301fefab33",
            "984ee1e4fc9a46b787f80d6a3474a370",
            "56455973edc841d3ab5b67fab4ddfe9c",
            "b38c52c80f984faa846fe1ddeb0f32dc",
            "378778842054410aaf90031158ab79ff",
            "9b39bf096a184458a06fdf6a2286daaa"
          ]
        },
        "id": "D-G_NauE2unA",
        "outputId": "748fb2d8-aa13-495e-8779-00777b4f3dcc"
      },
      "execution_count": 18,
      "outputs": [
        {
          "output_type": "display_data",
          "data": {
            "text/plain": [
              "  0%|          | 0/100000 [00:00<?, ?it/s]"
            ],
            "application/vnd.jupyter.widget-view+json": {
              "version_major": 2,
              "version_minor": 0,
              "model_id": "3ed376ddacb9470aa629702c9539d96e"
            }
          },
          "metadata": {}
        }
      ]
    },
    {
      "cell_type": "markdown",
      "source": [
        "# Updated Q-values"
      ],
      "metadata": {
        "id": "7vEnvxIh0UXg"
      }
    },
    {
      "cell_type": "code",
      "source": [
        "Qtable_cliffwalking"
      ],
      "metadata": {
        "colab": {
          "base_uri": "https://localhost:8080/"
        },
        "id": "5AmlgECip4K3",
        "outputId": "0e4bbec2-5ed4-42cd-857d-fc0719e6205e"
      },
      "execution_count": 19,
      "outputs": [
        {
          "output_type": "execute_result",
          "data": {
            "text/plain": [
              "array([[-10.7341754 , -10.24650042, -10.24650042, -10.7341754 ],\n",
              "       [-10.24650042,  -9.73315833,  -9.73315833, -10.7341754 ],\n",
              "       [ -9.73315833,  -9.19279825,  -9.19279825, -10.24650042],\n",
              "       [ -9.19279825,  -8.62399815,  -8.62399815,  -9.73315833],\n",
              "       [ -8.62399815,  -8.02526122,  -8.02526122,  -9.19279825],\n",
              "       [ -8.02526122,  -7.39501181,  -7.39501181,  -8.62399815],\n",
              "       [ -7.39501181,  -6.73159137,  -6.73159137,  -8.02526122],\n",
              "       [ -6.73159137,  -6.03325408,  -6.03325408,  -7.39501181],\n",
              "       [ -6.03325408,  -5.29816219,  -5.29816219,  -6.73159137],\n",
              "       [ -5.29816219,  -4.52438125,  -4.52438125,  -6.03325408],\n",
              "       [ -4.52438125,  -3.709875  ,  -3.709875  ,  -5.29816219],\n",
              "       [ -3.709875  ,  -3.709875  ,  -2.8525    ,  -4.52438125],\n",
              "       [-10.7341754 ,  -9.73315833,  -9.73315833, -10.24650042],\n",
              "       [-10.24650042,  -9.19279825,  -9.19279825, -10.24650042],\n",
              "       [ -9.73315833,  -8.62399815,  -8.62399815,  -9.73315833],\n",
              "       [ -9.19279825,  -8.02526122,  -8.02526122,  -9.19279825],\n",
              "       [ -8.62399815,  -7.39501181,  -7.39501181,  -8.62399815],\n",
              "       [ -8.02526122,  -6.73159137,  -6.73159137,  -8.02526122],\n",
              "       [ -7.39501181,  -6.03325408,  -6.03325408,  -7.39501181],\n",
              "       [ -6.73159137,  -5.29816219,  -5.29816219,  -6.73159137],\n",
              "       [ -6.03325408,  -4.52438125,  -4.52438125,  -6.03325408],\n",
              "       [ -5.29816219,  -3.709875  ,  -3.709875  ,  -5.29816219],\n",
              "       [ -4.52438125,  -2.8525    ,  -2.8525    ,  -4.52438125],\n",
              "       [ -3.709875  ,  -2.8525    ,  -1.95      ,  -3.709875  ],\n",
              "       [-10.24650042,  -9.19279825, -10.24650042,  -9.73315833],\n",
              "       [ -9.73315833,  -8.62399815, -10.24650042,  -9.73315833],\n",
              "       [ -9.19279825,  -8.02526122, -10.24650042,  -9.19279825],\n",
              "       [ -8.62399815,  -7.39501181, -10.24650042,  -8.62399815],\n",
              "       [ -8.02526122,  -6.73159137, -10.24650042,  -8.02526122],\n",
              "       [ -7.39501181,  -6.03325408, -10.24650042,  -7.39501181],\n",
              "       [ -6.73159137,  -5.29816219, -10.24650042,  -6.73159137],\n",
              "       [ -6.03325408,  -4.52438125, -10.24650042,  -6.03325408],\n",
              "       [ -5.29816219,  -3.709875  , -10.24650042,  -5.29816219],\n",
              "       [ -4.52438125,  -2.8525    , -10.24650042,  -4.52438125],\n",
              "       [ -3.709875  ,  -1.95      , -10.24650042,  -3.709875  ],\n",
              "       [ -2.8525    ,  -1.95      ,  -1.        ,  -2.8525    ],\n",
              "       [ -9.73315833, -10.24650042, -10.24650042, -10.24650042],\n",
              "       [  0.        ,   0.        ,   0.        ,   0.        ],\n",
              "       [  0.        ,   0.        ,   0.        ,   0.        ],\n",
              "       [  0.        ,   0.        ,   0.        ,   0.        ],\n",
              "       [  0.        ,   0.        ,   0.        ,   0.        ],\n",
              "       [  0.        ,   0.        ,   0.        ,   0.        ],\n",
              "       [  0.        ,   0.        ,   0.        ,   0.        ],\n",
              "       [  0.        ,   0.        ,   0.        ,   0.        ],\n",
              "       [  0.        ,   0.        ,   0.        ,   0.        ],\n",
              "       [  0.        ,   0.        ,   0.        ,   0.        ],\n",
              "       [  0.        ,   0.        ,   0.        ,   0.        ],\n",
              "       [  0.        ,   0.        ,   0.        ,   0.        ]])"
            ]
          },
          "metadata": {},
          "execution_count": 19
        }
      ]
    },
    {
      "cell_type": "markdown",
      "source": [
        "# Visualization"
      ],
      "metadata": {
        "id": "mLohwkGQ9ROc"
      }
    },
    {
      "cell_type": "code",
      "source": [
        "rolling_length = 500\n",
        "fig, axs = plt.subplots(ncols=3, figsize=(12, 5))\n",
        "axs[0].set_title(\"Episode rewards\")\n",
        "# compute and assign a rolling average of the data to provide a smoother graph\n",
        "reward_moving_average = (\n",
        "    np.convolve(\n",
        "        np.array(env.return_queue).flatten(), np.ones(rolling_length), mode=\"valid\"\n",
        "    )\n",
        "    / rolling_length\n",
        ")\n",
        "axs[0].plot(range(len(reward_moving_average)), reward_moving_average)\n",
        "\n",
        "axs[1].set_title(\"Episode lengths\")\n",
        "length_moving_average = (\n",
        "    np.convolve(\n",
        "        np.array(env.length_queue).flatten(), np.ones(rolling_length), mode=\"same\"\n",
        "    )\n",
        "    / rolling_length\n",
        ")\n",
        "axs[1].plot(range(len(length_moving_average)), length_moving_average)\n",
        "\n",
        "axs[2].set_title(\"Training Error\")\n",
        "training_error_moving_average = (\n",
        "    np.convolve(np.array(agent.training_error), np.ones(rolling_length), mode=\"same\")\n",
        "    / rolling_length\n",
        ")\n",
        "axs[2].plot(range(len(training_error_moving_average)), training_error_moving_average)\n",
        "plt.tight_layout()\n",
        "plt.show()"
      ],
      "metadata": {
        "colab": {
          "base_uri": "https://localhost:8080/",
          "height": 507
        },
        "id": "j0L-x9zv9QZe",
        "outputId": "eeaec3af-4315-4178-b848-c28f33a00f11"
      },
      "execution_count": 25,
      "outputs": [
        {
          "output_type": "display_data",
          "data": {
            "text/plain": [
              "<Figure size 1200x500 with 3 Axes>"
            ],
            "image/png": "[encoded data removed]"
          },
          "metadata": {}
        }
      ]
    },
    {
      "cell_type": "code",
      "source": [
        "rolling_length = 500\n",
        "reward_moving_average = (\n",
        "    np.convolve(\n",
        "        np.array(env.return_queue).flatten(), np.ones(rolling_length), mode=\"valid\"\n",
        "    )\n",
        "    / rolling_length\n",
        ")\n",
        "wandb.log({'episode reward over time': reward_moving_average})\n",
        "\n",
        "length_moving_average = (\n",
        "    np.convolve(\n",
        "        np.array(env.length_queue).flatten(), np.ones(rolling_length), mode=\"same\"\n",
        "    )\n",
        "    / rolling_length\n",
        ")\n",
        "wandb.log({'episode length over time': length_moving_average})\n",
        "\n",
        "training_error_moving_average = (\n",
        "    np.convolve(np.array(agent.training_error), np.ones(rolling_length), mode=\"same\")\n",
        "    / rolling_length\n",
        ")\n",
        "wandb.log({'training error': training_error_moving_average})"
      ],
      "metadata": {
        "id": "pLakBQpg6jfe"
      },
      "execution_count": null,
      "outputs": []
    },
    {
      "cell_type": "markdown",
      "source": [
        "# Evaluate trained Agent"
      ],
      "metadata": {
        "id": "63yuLJo10WFj"
      }
    },
    {
      "cell_type": "code",
      "source": [
        "def evaluate_agent(env, max_steps, n_eval_episodes, Qtable, seed):\n",
        "  \"\"\"\n",
        "  Evaluate the agent for ``n_eval_episodes`` episodes and returns average reward and std of reward.\n",
        "  :param env: The evaluation environment\n",
        "  :param max_steps: Maximum number of steps per episode\n",
        "  :param n_eval_episodes: Number of episode to evaluate the agent\n",
        "  :param Q: The Q-table\n",
        "  :param seed: The evaluation seed array (for cliffwalking)\n",
        "  \"\"\"\n",
        "  episode_rewards = []\n",
        "  for episode in tqdm(range(n_eval_episodes)):\n",
        "    if seed:\n",
        "      state, info = env.reset(seed=seed[episode])\n",
        "    else:\n",
        "      state, info = env.reset()\n",
        "    step = 0\n",
        "    truncated = False\n",
        "    terminated = False\n",
        "    total_rewards_ep = 0\n",
        "\n",
        "    for step in range(max_steps):\n",
        "      # Take the action (index) that have the maximum expected future reward given that state\n",
        "      action = np.argmax(Qtable[state][:])\n",
        "      new_state, reward, terminated, truncated, info = env.step(action)\n",
        "      total_rewards_ep += reward\n",
        "\n",
        "      if terminated or truncated:\n",
        "        break\n",
        "      state = new_state\n",
        "    episode_rewards.append(total_rewards_ep)\n",
        "  mean_reward = np.mean(episode_rewards)\n",
        "  std_reward = np.std(episode_rewards)\n",
        "\n",
        "  return mean_reward, std_reward"
      ],
      "metadata": {
        "id": "d6YMRKlPqE_c"
      },
      "execution_count": 26,
      "outputs": []
    },
    {
      "cell_type": "code",
      "source": [
        "# Evaluate our Agent\n",
        "mean_reward, std_reward = evaluate_agent(env, configs.max_steps, configs.n_eval_episodes, Qtable_cliffwalking, configs.eval_seed)\n",
        "print(f\"Mean_reward={mean_reward:.2f} +/- {std_reward:.2f}\")"
      ],
      "metadata": {
        "colab": {
          "base_uri": "https://localhost:8080/",
          "height": 66,
          "referenced_widgets": [
            "16c30db3f5ae46de8bce14fbf9848197",
            "0346ee39f57f45929110dc1324116bff",
            "5d18c5e25c4b4f0db810cb85a17eaeb3",
            "7a3794d1ffa5432eaa1938bdc9e18545",
            "9d680f85f787484382b83fc7717c3c05",
            "3622db07b69543678aa1f2b54fa8d4bf",
            "3ba38132a0c04ef2a395446d76cc1a9f",
            "a1b0527ccc4b48f483e8124441c1675b",
            "ce01884f426d487db9e51f844f93506b",
            "b4e089a2b8ca48d182e4019b88d3ca7f",
            "4f9b5d7cf1134b81aa632307238b1532"
          ]
        },
        "id": "dQh0MPpwqJQo",
        "outputId": "2ecc97ee-2b07-4657-ba85-12e9cf41a089"
      },
      "execution_count": 27,
      "outputs": [
        {
          "output_type": "display_data",
          "data": {
            "text/plain": [
              "  0%|          | 0/100 [00:00<?, ?it/s]"
            ],
            "application/vnd.jupyter.widget-view+json": {
              "version_major": 2,
              "version_minor": 0,
              "model_id": "16c30db3f5ae46de8bce14fbf9848197"
            }
          },
          "metadata": {}
        },
        {
          "output_type": "stream",
          "name": "stdout",
          "text": [
            "Mean_reward=-13.00 +/- 0.00\n"
          ]
        }
      ]
    },
    {
      "cell_type": "markdown",
      "source": [
        "# Record Video of Optimal Policy"
      ],
      "metadata": {
        "id": "hXOH9irH0eOB"
      }
    },
    {
      "cell_type": "code",
      "source": [
        "def record_video(env, Qtable, out_directory, fps=1):\n",
        "  \"\"\"\n",
        "  Generate a replay video of the agent\n",
        "  :param env\n",
        "  :param Qtable: Qtable of our agent\n",
        "  :param out_directory\n",
        "  :param fps: how many frame per seconds (with taxi-v3 and frozenlake-v1 we use 1)\n",
        "  \"\"\"\n",
        "  images = []\n",
        "  terminated = False\n",
        "  truncated = False\n",
        "  state, info = env.reset(seed=random.randint(0,500))\n",
        "  img = env.render()\n",
        "  images.append(img)\n",
        "  while not terminated or truncated:\n",
        "    # Take the action (index) that have the maximum expected future reward given that state\n",
        "    action = np.argmax(Qtable[state][:])\n",
        "    state, reward, terminated, truncated, info = env.step(action) # We directly put next_state = state for recording logic\n",
        "    img = env.render()\n",
        "    images.append(img)\n",
        "  imageio.mimsave(out_directory, [np.array(img) for i, img in enumerate(images)], fps=fps)"
      ],
      "metadata": {
        "id": "CfxLwXf3qPEb"
      },
      "execution_count": 19,
      "outputs": []
    },
    {
      "cell_type": "code",
      "source": [
        "video_path = \"replay.mp4\"\n",
        "record_video(env, Qtable_cliffwalking, video_path, fps=1)"
      ],
      "metadata": {
        "id": "yHeP3z78qYHo"
      },
      "execution_count": 20,
      "outputs": []
    },
    {
      "cell_type": "markdown",
      "source": [
        "# Log video to wandb"
      ],
      "metadata": {
        "id": "eVRSMwEp9Xde"
      }
    },
    {
      "cell_type": "code",
      "source": [],
      "metadata": {
        "id": "x3vlnWoFYoSK"
      },
      "execution_count": 20,
      "outputs": []
    }
  ]
}